{
 "cells": [
  {
   "cell_type": "markdown",
   "id": "ecfb9294",
   "metadata": {
    "papermill": {
     "duration": 0.015117,
     "end_time": "2022-10-09T09:03:07.735621",
     "exception": false,
     "start_time": "2022-10-09T09:03:07.720504",
     "status": "completed"
    },
    "tags": []
   },
   "source": [
    "## Clone repos from github"
   ]
  },
  {
   "cell_type": "code",
   "execution_count": 1,
   "id": "f6b1b8a0",
   "metadata": {
    "execution": {
     "iopub.execute_input": "2022-10-09T09:03:07.761046Z",
     "iopub.status.busy": "2022-10-09T09:03:07.760501Z",
     "iopub.status.idle": "2022-10-09T09:03:27.934610Z",
     "shell.execute_reply": "2022-10-09T09:03:27.933352Z"
    },
    "id": "mzl9mnLrvLfp",
    "papermill": {
     "duration": 20.189562,
     "end_time": "2022-10-09T09:03:27.937359",
     "exception": false,
     "start_time": "2022-10-09T09:03:07.747797",
     "status": "completed"
    },
    "tags": []
   },
   "outputs": [],
   "source": [
    "%%capture\n",
    "!git clone https://github.com/hukenovs/hagrid.git\n",
    "# or mirror link:\n",
    "%cd hagrid\n",
    "# Install requirements\n",
    "%pip install -r requirements.txt --user\n",
    "%cd ..\n",
    "# !wget https://raw.githubusercontent.com/shitkov/signature_detector/main/dataset.zip\n",
    "!git clone https://github.com/ultralytics/yolov5\n",
    "%cd yolov5\n",
    "%pip install -qr requirements.txt\n",
    "# !unzip /content/dataset.zip -d /content/yolov5/\n",
    "%cd .."
   ]
  },
  {
   "cell_type": "code",
   "execution_count": 2,
   "id": "c774a8f7",
   "metadata": {
    "execution": {
     "iopub.execute_input": "2022-10-09T09:03:27.954882Z",
     "iopub.status.busy": "2022-10-09T09:03:27.954049Z",
     "iopub.status.idle": "2022-10-09T09:03:27.959652Z",
     "shell.execute_reply": "2022-10-09T09:03:27.958770Z"
    },
    "id": "XaO6Zxli0sVx",
    "papermill": {
     "duration": 0.016486,
     "end_time": "2022-10-09T09:03:27.961730",
     "exception": false,
     "start_time": "2022-10-09T09:03:27.945244",
     "status": "completed"
    },
    "tags": []
   },
   "outputs": [],
   "source": [
    "# !rm hagrid_data -r"
   ]
  },
  {
   "cell_type": "code",
   "execution_count": 3,
   "id": "51e05214",
   "metadata": {
    "execution": {
     "iopub.execute_input": "2022-10-09T09:03:27.979324Z",
     "iopub.status.busy": "2022-10-09T09:03:27.979015Z",
     "iopub.status.idle": "2022-10-09T09:03:27.983284Z",
     "shell.execute_reply": "2022-10-09T09:03:27.982275Z"
    },
    "id": "HB_ivZ5il7FX",
    "outputId": "bc6c9b43-6d81-48b9-8cd6-1769c8f0a0cb",
    "papermill": {
     "duration": 0.014674,
     "end_time": "2022-10-09T09:03:27.985335",
     "exception": false,
     "start_time": "2022-10-09T09:03:27.970661",
     "status": "completed"
    },
    "tags": []
   },
   "outputs": [],
   "source": [
    "# !python hagrid/download.py --save_path /kaggle/temp/hagrid_data \\\n",
    "#                    --train \\\n",
    "#                    --targets call \\\n",
    "#                    --test \\\n",
    "#                   #  --subset \\\n",
    "#                    --annotations \\\n",
    "#                    --dataset\n"
   ]
  },
  {
   "cell_type": "code",
   "execution_count": 4,
   "id": "ad26c11d",
   "metadata": {
    "execution": {
     "iopub.execute_input": "2022-10-09T09:03:28.001504Z",
     "iopub.status.busy": "2022-10-09T09:03:28.001250Z",
     "iopub.status.idle": "2022-10-09T09:03:28.005195Z",
     "shell.execute_reply": "2022-10-09T09:03:28.004272Z"
    },
    "id": "ZQGDrHKa3IWK",
    "papermill": {
     "duration": 0.014388,
     "end_time": "2022-10-09T09:03:28.007322",
     "exception": false,
     "start_time": "2022-10-09T09:03:27.992934",
     "status": "completed"
    },
    "tags": []
   },
   "outputs": [],
   "source": [
    "##### Subsample\n",
    "# !mkdir 'hagrid_data/subsample/subsample'\n",
    "# !unzip -q 'hagrid_data/subsample/subsample.zip' -d 'hagrid_data/subsample/subsample'\n",
    "# !unzip -q 'hagrid_data/subsample/ann_subsample.zip' -d 'hagrid_data/subsample/ann_subsample'"
   ]
  },
  {
   "cell_type": "markdown",
   "id": "c2e72f72",
   "metadata": {
    "id": "ykt4DSstyIJA",
    "papermill": {
     "duration": 0.00733,
     "end_time": "2022-10-09T09:03:28.021988",
     "exception": false,
     "start_time": "2022-10-09T09:03:28.014658",
     "status": "completed"
    },
    "tags": []
   },
   "source": [
    "## YOLOv5 habr"
   ]
  },
  {
   "cell_type": "code",
   "execution_count": 5,
   "id": "a886b7fa",
   "metadata": {
    "execution": {
     "iopub.execute_input": "2022-10-09T09:03:28.038319Z",
     "iopub.status.busy": "2022-10-09T09:03:28.038047Z",
     "iopub.status.idle": "2022-10-09T09:03:38.361638Z",
     "shell.execute_reply": "2022-10-09T09:03:38.360305Z"
    },
    "id": "VE-8E7yTyHMb",
    "papermill": {
     "duration": 10.334585,
     "end_time": "2022-10-09T09:03:38.364093",
     "exception": false,
     "start_time": "2022-10-09T09:03:28.029508",
     "status": "completed"
    },
    "tags": []
   },
   "outputs": [],
   "source": [
    "%%capture\n",
    "# !wget https://raw.githubusercontent.com/shitkov/signature_detector/main/dataset.zip\n",
    "!git clone https://github.com/ultralytics/yolov5\n",
    "%cd yolov5\n",
    "%pip install -qr requirements.txt\n",
    "# !unzip /content/dataset.zip -d /content/yolov5/\n",
    "%cd .."
   ]
  },
  {
   "cell_type": "markdown",
   "id": "e6b96267",
   "metadata": {
    "papermill": {
     "duration": 0.007587,
     "end_time": "2022-10-09T09:03:38.379549",
     "exception": false,
     "start_time": "2022-10-09T09:03:38.371962",
     "status": "completed"
    },
    "tags": []
   },
   "source": [
    "## Preprocessing annotation files to YOLOv5 format"
   ]
  },
  {
   "cell_type": "code",
   "execution_count": 6,
   "id": "c1f994db",
   "metadata": {
    "execution": {
     "iopub.execute_input": "2022-10-09T09:03:38.396989Z",
     "iopub.status.busy": "2022-10-09T09:03:38.396645Z",
     "iopub.status.idle": "2022-10-09T09:04:44.081299Z",
     "shell.execute_reply": "2022-10-09T09:04:44.080180Z"
    },
    "id": "BKOi6CJT_5wu",
    "papermill": {
     "duration": 65.696805,
     "end_time": "2022-10-09T09:04:44.084453",
     "exception": false,
     "start_time": "2022-10-09T09:03:38.387648",
     "status": "completed"
    },
    "tags": []
   },
   "outputs": [],
   "source": [
    "import json\n",
    "import os\n",
    "\n",
    "YOLO_ANN_TRAIN_JSON_PATH = '/kaggle/input/hagrid-call-test/ann_train_val/ann_train_val/call.json'\n",
    "YOLO_ANN_TEST_JSON_PATH  = '/kaggle/input/hagrid-call-test/ann_test/ann_test/call.json'\n",
    "YOLO_ANN_TRAIN_TXTS_PATH = '/kaggle/working/labels_train'\n",
    "YOLO_ANN_TEST_TXTS_PATH  = '/kaggle/working/labels_test'\n",
    "HAGRID_PHOTO_TRAIN_PATH  = '/kaggle/input/hagrid-call-test/train_val_call'\n",
    "HAGRID_PHOTO_TEST_PATH   = '/kaggle/input/hagrid-call-test/test/call'\n",
    "\n",
    "YOLO_ANN_FAKES_JSON_PATH = '/kaggle/input/hagrid-call-test/ann_test/ann_test'\n",
    "YOLO_ANN_FAKES_TXTS_PATH = '/kaggle/working/labels_fakes'\n",
    "HAGRID_PHOTO_FAKES_PATH  = '/kaggle/input/hagrid-call-test/test'\n",
    "\n",
    "\n",
    "def preprocess_json2txt(json_path:str, txt_path:str, photo_path:str) -> None:\n",
    "    dct={}\n",
    "    with open(json_path) as f:\n",
    "        d = json.load(f)\n",
    "        for key in d:\n",
    "            dct[key] = d[key]\n",
    "\n",
    "    if not(os.path.isdir(txt_path)):\n",
    "        os.mkdir(txt_path)\n",
    "\n",
    "    filenames = []\n",
    "    for (dirpath, dirnames, f) in os.walk(photo_path):\n",
    "        filenames.extend(f)\n",
    "        break\n",
    "\n",
    "    for filename in filenames:\n",
    "        name = filename.split('.')[0]\n",
    "        with open(os.path.join(txt_path, name+'.txt'), 'w') as f:\n",
    "            lines = []\n",
    "            for i in range(len(dct[name]['bboxes'])):\n",
    "                label = (1 if dct[name]['labels'][i]=='call' else 0)\n",
    "                bbox = [dct[name]['bboxes'][i][0]+0.5*dct[name]['bboxes'][i][2],\n",
    "                        dct[name]['bboxes'][i][1]+0.5*dct[name]['bboxes'][i][3],\n",
    "                        dct[name]['bboxes'][i][2],\n",
    "                        dct[name]['bboxes'][i][3]]\n",
    "                lines.append(str(label) + ' ' + ' '.join(str(x) for x in bbox) + '\\n')\n",
    "            f.writelines(lines)\n",
    "            \n",
    "preprocess_json2txt(YOLO_ANN_TRAIN_JSON_PATH, YOLO_ANN_TRAIN_TXTS_PATH, HAGRID_PHOTO_TRAIN_PATH)\n",
    "preprocess_json2txt(YOLO_ANN_TEST_JSON_PATH,  YOLO_ANN_TEST_TXTS_PATH,  HAGRID_PHOTO_TEST_PATH )\n",
    "\n",
    "fakes_names=['dislike','fist','four','like','mute','ok','one','palm','peace','peace_inverted','rock',\\\n",
    "             'stop','stop_inverted','three','three2','two_up','two_up_inverted']\n",
    "\n",
    "for name in fakes_names:\n",
    "    preprocess_json2txt(YOLO_ANN_FAKES_JSON_PATH+'/'+name+'.json', YOLO_ANN_FAKES_TXTS_PATH,\n",
    "                        HAGRID_PHOTO_FAKES_PATH+'/'+name)"
   ]
  },
  {
   "cell_type": "code",
   "execution_count": 7,
   "id": "41d00ea6",
   "metadata": {
    "execution": {
     "iopub.execute_input": "2022-10-09T09:04:44.102913Z",
     "iopub.status.busy": "2022-10-09T09:04:44.102566Z",
     "iopub.status.idle": "2022-10-09T09:04:44.107140Z",
     "shell.execute_reply": "2022-10-09T09:04:44.106181Z"
    },
    "papermill": {
     "duration": 0.016487,
     "end_time": "2022-10-09T09:04:44.109500",
     "exception": false,
     "start_time": "2022-10-09T09:04:44.093013",
     "status": "completed"
    },
    "tags": []
   },
   "outputs": [],
   "source": [
    "# with open('./sig.yaml', 'w') as f:\n",
    "#     f.write(f'train: {HAGRID_PHOTO_TRAIN_PATH}\\n' + \\\n",
    "#             f'val: {HAGRID_PHOTO_TEST_PATH}\\n' + '\\n' + \\\n",
    "#             'nc: 2\\n' + \"names: ['call', 'no_gesture]\")"
   ]
  },
  {
   "cell_type": "code",
   "execution_count": 8,
   "id": "c9037b77",
   "metadata": {
    "execution": {
     "iopub.execute_input": "2022-10-09T09:04:44.126900Z",
     "iopub.status.busy": "2022-10-09T09:04:44.126550Z",
     "iopub.status.idle": "2022-10-09T09:04:44.135061Z",
     "shell.execute_reply": "2022-10-09T09:04:44.134112Z"
    },
    "papermill": {
     "duration": 0.019736,
     "end_time": "2022-10-09T09:04:44.137157",
     "exception": false,
     "start_time": "2022-10-09T09:04:44.117421",
     "status": "completed"
    },
    "tags": []
   },
   "outputs": [],
   "source": [
    "### OBSOLETE\n",
    "def create_dataset(dataset_path:str, img_train_path:str, label_train_path:str, valid_size:float,\n",
    "                  random_state:int):\n",
    "    np.random.seed(random_state)\n",
    "    dirpath=''\n",
    "    images = []\n",
    "    for (dirpath_, dirpaths, filenames) in os.walk(img_train_path):\n",
    "        images.extend(filenames)\n",
    "        dirpath += dirpath_\n",
    "        break\n",
    "        \n",
    "    images.sort()\n",
    "    n = len(images)\n",
    "    train_indices = np.arange(n)\n",
    "    np.random.shuffle(train_indices)\n",
    "    train_indices = train_indices[:n]\n",
    "    mask = np.zeros(n, dtype=np.bool)\n",
    "    for i in train_indices:\n",
    "        mask[i]=1\n",
    "    \n",
    "    for i,image in enumerate(images):\n",
    "        name = image.split('.')[0]\n",
    "        dir_type = ('train' if i in mask[i]==1 else 'valid')\n",
    "        exec(f'!cp -s {os.path.join(img_train_path, image)}' + \\\n",
    "             f'{os.path.join(dataset_path, \"images\", dir_type, image)}')\n",
    "        txt = name+'.txt'\n",
    "        exec(f'!cp -s {os.path.join(label_train_path, txt)}' + \\\n",
    "             f'{os.path.join(dataset_path, \"labels\", dir_type, txt)}')"
   ]
  },
  {
   "cell_type": "code",
   "execution_count": 9,
   "id": "04fa0bad",
   "metadata": {
    "execution": {
     "iopub.execute_input": "2022-10-09T09:04:44.155276Z",
     "iopub.status.busy": "2022-10-09T09:04:44.154641Z",
     "iopub.status.idle": "2022-10-09T09:04:44.159677Z",
     "shell.execute_reply": "2022-10-09T09:04:44.158656Z"
    },
    "papermill": {
     "duration": 0.016634,
     "end_time": "2022-10-09T09:04:44.161815",
     "exception": false,
     "start_time": "2022-10-09T09:04:44.145181",
     "status": "completed"
    },
    "tags": []
   },
   "outputs": [],
   "source": [
    "# create_dataset('/kaggle/temp/dataset', HAGRID_PHOTO_TRAIN_PATH, YOLO_ANN_TRAIN_TXTS_PATH, valid_size=0.05, random_state=1)"
   ]
  },
  {
   "cell_type": "code",
   "execution_count": 10,
   "id": "d70b4243",
   "metadata": {
    "execution": {
     "iopub.execute_input": "2022-10-09T09:04:44.179895Z",
     "iopub.status.busy": "2022-10-09T09:04:44.179067Z",
     "iopub.status.idle": "2022-10-09T09:05:09.236150Z",
     "shell.execute_reply": "2022-10-09T09:05:09.234769Z"
    },
    "papermill": {
     "duration": 25.068,
     "end_time": "2022-10-09T09:05:09.238289",
     "exception": false,
     "start_time": "2022-10-09T09:04:44.170289",
     "status": "completed"
    },
    "tags": []
   },
   "outputs": [
    {
     "name": "stdout",
     "output_type": "stream",
     "text": [
      "/kaggle/temp\n",
      "/kaggle/working\n"
     ]
    }
   ],
   "source": [
    "!mkdir -p /kaggle/temp/dataset/images\n",
    "!mkdir -p /kaggle/temp/dataset/labels\n",
    "%cd ../temp\n",
    "!cp -r -s '/kaggle/input/hagrid-call-test/train_val_call' './dataset/images'\n",
    "!mv './dataset/images/train_val_call' './dataset/images/train'\n",
    "!cp -r -s '/kaggle/input/hagrid-call-test/test/call'      './dataset/images'\n",
    "!mv './dataset/images/call' './dataset/images/valid'\n",
    "!cp -r -s '/kaggle/working/labels_train' './dataset/labels'\n",
    "!mv './dataset/labels/labels_train' './dataset/labels/train'\n",
    "!cp -r -s '/kaggle/working/labels_test' './dataset/labels'\n",
    "!mv './dataset/labels/labels_test' './dataset/labels/valid'\n",
    "%cd ../working"
   ]
  },
  {
   "cell_type": "code",
   "execution_count": 11,
   "id": "de24345b",
   "metadata": {
    "execution": {
     "iopub.execute_input": "2022-10-09T09:05:09.255989Z",
     "iopub.status.busy": "2022-10-09T09:05:09.255104Z",
     "iopub.status.idle": "2022-10-09T09:05:09.266609Z",
     "shell.execute_reply": "2022-10-09T09:05:09.265705Z"
    },
    "papermill": {
     "duration": 0.022292,
     "end_time": "2022-10-09T09:05:09.268545",
     "exception": false,
     "start_time": "2022-10-09T09:05:09.246253",
     "status": "completed"
    },
    "tags": []
   },
   "outputs": [],
   "source": [
    "from multiprocessing import Pool\n",
    "\n",
    "def _scan_folder(dataset_path, dirs):\n",
    "    lists = {}\n",
    "    s1='images'\n",
    "    for s2 in dirs:\n",
    "        lists[s2] = []\n",
    "        cur_path = os.path.join(dataset_path, s1, s2)\n",
    "        for (dirpath, dirpaths, filenames) in os.walk(cur_path):\n",
    "                for i in range(len(filenames)):\n",
    "                    filenames[i] = filenames[i].split('.')[0]\n",
    "                lists[s2].extend(sorted(filenames))\n",
    "    return lists\n",
    "\n",
    "def _trim_dataset_helper(dataset_path:str, s2:str, name:str):\n",
    "    os.remove(os.path.join(dataset_path, 'images', s2, name + '.jpg'))\n",
    "    os.remove(os.path.join(dataset_path, 'labels', s2, name + '.txt'))\n",
    "    \n",
    "def trim_dataset(dataset_path:str, n_train:int, n_valid:int, batch_index=0):\n",
    "    dirs = [['images','labels'], ['train','valid']]\n",
    "    lists = _scan_folder(dataset_path, dirs[1]) \n",
    "    \n",
    "    for s2 in dirs[1]:\n",
    "        n = (n_train if s2=='train' else n_valid)\n",
    "        filenames = lists[s2].copy()\n",
    "        _start = (batch_index * n) % (len(filenames))\n",
    "        _end   = _start + n\n",
    "        filenames = ((filenames[:_start] + filenames[_end:]) if _end <= len(filenames) else \\\n",
    "                      filenames[_end%len(filenames):_start])\n",
    "            \n",
    "        with Pool(4) as p:\n",
    "            p.starmap(_trim_dataset_helper, [(dataset_path, s2, name) for name in filenames])\n",
    "                \n",
    "    lists = _scan_folder(dataset_path, dirs[1])\n",
    "    return lists"
   ]
  },
  {
   "cell_type": "code",
   "execution_count": 12,
   "id": "a55a2ace",
   "metadata": {
    "execution": {
     "iopub.execute_input": "2022-10-09T09:05:09.286060Z",
     "iopub.status.busy": "2022-10-09T09:05:09.285253Z",
     "iopub.status.idle": "2022-10-09T09:05:09.295230Z",
     "shell.execute_reply": "2022-10-09T09:05:09.294328Z"
    },
    "papermill": {
     "duration": 0.020803,
     "end_time": "2022-10-09T09:05:09.297178",
     "exception": false,
     "start_time": "2022-10-09T09:05:09.276375",
     "status": "completed"
    },
    "tags": []
   },
   "outputs": [],
   "source": [
    "def _copy_fakes_helper(dataset_path:str, image_path:str, label_path:str, filename:str, dir_type:str):\n",
    "    filename = filename.split('.')[0]\n",
    "    os.popen(f'cp -s {os.path.join(image_path, filename+\".jpg\")} {os.path.join(dataset_path, \"images\", dir_type)}')\n",
    "    os.popen(f'cp -s {os.path.join(label_path, filename+\".txt\")} {os.path.join(dataset_path, \"labels\", dir_type)}') \n",
    "    \n",
    "def copy_fakes(dataset_path:str, image_path:str, label_path:str, n_train:int,\n",
    "               n_valid:int, fakes_names:list, batch_index=0):\n",
    "    \n",
    "    n_train = n_train//len(fakes_names)\n",
    "    n_valid = n_valid//len(fakes_names)\n",
    "    \n",
    "    for name in fakes_names:\n",
    "        dir_path = image_path+'/'+name\n",
    "        filenames = sorted(os.listdir(dir_path))\n",
    "        _start = (batch_index * (n_train + n_valid)) % (len(filenames))\n",
    "        _end   = _start + (n_train + n_valid)\n",
    "        filenames = (filenames[_start:_end] if _end <= len(filenames) else \\\n",
    "                     filenames[_start:] + filenames[:_end%len(filenames)])\n",
    "        \n",
    "        with Pool(4) as p:\n",
    "            p.starmap(_copy_fakes_helper, [(dataset_path, dir_path, label_path, filename, 'train')\\\n",
    "                                           for filename in filenames[:n_train]])\n",
    "        with Pool(4) as p:\n",
    "            p.starmap(_copy_fakes_helper, [(dataset_path, dir_path, label_path, filename, 'valid')\\\n",
    "                                           for filename in filenames[n_train:n_train+n_valid]])\n",
    "        \n",
    "    lists = _scan_folder(dataset_path, ['train','valid'])\n",
    "    return lists"
   ]
  },
  {
   "cell_type": "code",
   "execution_count": 13,
   "id": "b711a2ff",
   "metadata": {
    "execution": {
     "iopub.execute_input": "2022-10-09T09:05:09.314015Z",
     "iopub.status.busy": "2022-10-09T09:05:09.313364Z",
     "iopub.status.idle": "2022-10-09T09:05:09.317448Z",
     "shell.execute_reply": "2022-10-09T09:05:09.316471Z"
    },
    "papermill": {
     "duration": 0.014445,
     "end_time": "2022-10-09T09:05:09.319433",
     "exception": false,
     "start_time": "2022-10-09T09:05:09.304988",
     "status": "completed"
    },
    "tags": []
   },
   "outputs": [],
   "source": [
    "# _scan_folder('/kaggle/temp/dataset', [['images','labels'], ['train','valid']])"
   ]
  },
  {
   "cell_type": "markdown",
   "id": "5e61e417",
   "metadata": {
    "papermill": {
     "duration": 0.007406,
     "end_time": "2022-10-09T09:05:09.334723",
     "exception": false,
     "start_time": "2022-10-09T09:05:09.327317",
     "status": "completed"
    },
    "tags": []
   },
   "source": [
    "## Trimming dataset"
   ]
  },
  {
   "cell_type": "code",
   "execution_count": 14,
   "id": "242673e8",
   "metadata": {
    "execution": {
     "iopub.execute_input": "2022-10-09T09:05:09.352185Z",
     "iopub.status.busy": "2022-10-09T09:05:09.351297Z",
     "iopub.status.idle": "2022-10-09T09:06:05.708147Z",
     "shell.execute_reply": "2022-10-09T09:06:05.701008Z"
    },
    "papermill": {
     "duration": 56.374187,
     "end_time": "2022-10-09T09:06:05.716563",
     "exception": false,
     "start_time": "2022-10-09T09:05:09.342376",
     "status": "completed"
    },
    "tags": []
   },
   "outputs": [
    {
     "name": "stdout",
     "output_type": "stream",
     "text": [
      "Batch index: 1Train dataset length: 4999\n",
      "Valid dataset length: 488\n"
     ]
    }
   ],
   "source": [
    "N_TRAIN = 5000\n",
    "N_VALID = 500\n",
    "BATCH_INDEX=1\n",
    "\n",
    "dataset_files = trim_dataset('/kaggle/temp/dataset', N_TRAIN//2, N_VALID//2, BATCH_INDEX)\n",
    "dataset_files = copy_fakes('/kaggle/temp/dataset', HAGRID_PHOTO_FAKES_PATH, YOLO_ANN_FAKES_TXTS_PATH,\n",
    "                          N_TRAIN//2, N_VALID//2, fakes_names, BATCH_INDEX)\n",
    "print(f\"Batch index: {BATCH_INDEX}\" + \\\n",
    "      f\"Train dataset length: {len(dataset_files['train'])}\\n\" + \\\n",
    "      f\"Valid dataset length: {len(dataset_files['valid'])}\")"
   ]
  },
  {
   "cell_type": "code",
   "execution_count": 15,
   "id": "9e15a689",
   "metadata": {
    "execution": {
     "iopub.execute_input": "2022-10-09T09:06:05.740298Z",
     "iopub.status.busy": "2022-10-09T09:06:05.739985Z",
     "iopub.status.idle": "2022-10-09T09:06:05.745515Z",
     "shell.execute_reply": "2022-10-09T09:06:05.744378Z"
    },
    "papermill": {
     "duration": 0.020697,
     "end_time": "2022-10-09T09:06:05.748496",
     "exception": false,
     "start_time": "2022-10-09T09:06:05.727799",
     "status": "completed"
    },
    "tags": []
   },
   "outputs": [],
   "source": [
    "with open('./sig.yaml', 'w') as f:\n",
    "    f.write('train: /kaggle/temp/dataset/images/train/\\n' + \\\n",
    "            'val: /kaggle/temp/dataset/images/valid/\\n' + \\\n",
    "            '\\n' + \\\n",
    "            'nc: 2\\n' + \\\n",
    "            \"names: ['no_gesture','call']\\n\")"
   ]
  },
  {
   "cell_type": "code",
   "execution_count": 16,
   "id": "fefec305",
   "metadata": {
    "execution": {
     "iopub.execute_input": "2022-10-09T09:06:05.771457Z",
     "iopub.status.busy": "2022-10-09T09:06:05.771188Z",
     "iopub.status.idle": "2022-10-09T09:06:06.771410Z",
     "shell.execute_reply": "2022-10-09T09:06:06.770199Z"
    },
    "papermill": {
     "duration": 1.014831,
     "end_time": "2022-10-09T09:06:06.774247",
     "exception": false,
     "start_time": "2022-10-09T09:06:05.759416",
     "status": "completed"
    },
    "tags": []
   },
   "outputs": [
    {
     "name": "stdout",
     "output_type": "stream",
     "text": [
      "train: /kaggle/temp/dataset/images/train/\r\n",
      "val: /kaggle/temp/dataset/images/valid/\r\n",
      "\r\n",
      "nc: 2\r\n",
      "names: ['no_gesture','call']\r\n"
     ]
    }
   ],
   "source": [
    "!cat ./sig.yaml"
   ]
  },
  {
   "cell_type": "code",
   "execution_count": 17,
   "id": "5aebbf4f",
   "metadata": {
    "execution": {
     "iopub.execute_input": "2022-10-09T09:06:06.791701Z",
     "iopub.status.busy": "2022-10-09T09:06:06.791377Z",
     "iopub.status.idle": "2022-10-09T09:06:06.795849Z",
     "shell.execute_reply": "2022-10-09T09:06:06.794816Z"
    },
    "papermill": {
     "duration": 0.015687,
     "end_time": "2022-10-09T09:06:06.797963",
     "exception": false,
     "start_time": "2022-10-09T09:06:06.782276",
     "status": "completed"
    },
    "tags": []
   },
   "outputs": [],
   "source": [
    "# # !rm -r /kaggle/temp\n",
    "# !mkdir -p /kaggle/temp/dataset/images\n",
    "# !cp -r -s '/kaggle/input/hagrid-call-test/train_val_call' '/kaggle/temp/dataset/images'"
   ]
  },
  {
   "cell_type": "code",
   "execution_count": 18,
   "id": "72d15c1d",
   "metadata": {
    "execution": {
     "iopub.execute_input": "2022-10-09T09:06:06.815183Z",
     "iopub.status.busy": "2022-10-09T09:06:06.814381Z",
     "iopub.status.idle": "2022-10-09T09:06:06.819541Z",
     "shell.execute_reply": "2022-10-09T09:06:06.818676Z"
    },
    "papermill": {
     "duration": 0.015672,
     "end_time": "2022-10-09T09:06:06.821485",
     "exception": false,
     "start_time": "2022-10-09T09:06:06.805813",
     "status": "completed"
    },
    "tags": []
   },
   "outputs": [],
   "source": [
    "# !ls /kaggle/temp/dataset"
   ]
  },
  {
   "cell_type": "code",
   "execution_count": 19,
   "id": "4eac4bd5",
   "metadata": {
    "execution": {
     "iopub.execute_input": "2022-10-09T09:06:06.838395Z",
     "iopub.status.busy": "2022-10-09T09:06:06.838084Z",
     "iopub.status.idle": "2022-10-09T09:06:06.842455Z",
     "shell.execute_reply": "2022-10-09T09:06:06.841401Z"
    },
    "papermill": {
     "duration": 0.015365,
     "end_time": "2022-10-09T09:06:06.844609",
     "exception": false,
     "start_time": "2022-10-09T09:06:06.829244",
     "status": "completed"
    },
    "tags": []
   },
   "outputs": [],
   "source": [
    "# !pip uninstall wandb -y"
   ]
  },
  {
   "cell_type": "code",
   "execution_count": 20,
   "id": "282d794d",
   "metadata": {
    "execution": {
     "iopub.execute_input": "2022-10-09T09:06:06.861156Z",
     "iopub.status.busy": "2022-10-09T09:06:06.860869Z",
     "iopub.status.idle": "2022-10-09T09:06:08.594969Z",
     "shell.execute_reply": "2022-10-09T09:06:08.594029Z"
    },
    "id": "KFeBQo73VwWC",
    "papermill": {
     "duration": 1.744913,
     "end_time": "2022-10-09T09:06:08.597122",
     "exception": false,
     "start_time": "2022-10-09T09:06:06.852209",
     "status": "completed"
    },
    "tags": []
   },
   "outputs": [
    {
     "data": {
      "text/plain": [
       "0"
      ]
     },
     "execution_count": 20,
     "metadata": {},
     "output_type": "execute_result"
    }
   ],
   "source": [
    "import torch\n",
    "from IPython.display import Image, clear_output\n",
    "from gc import collect\n",
    "collect()"
   ]
  },
  {
   "cell_type": "markdown",
   "id": "11161567",
   "metadata": {
    "papermill": {
     "duration": 0.007634,
     "end_time": "2022-10-09T09:06:08.612713",
     "exception": false,
     "start_time": "2022-10-09T09:06:08.605079",
     "status": "completed"
    },
    "tags": []
   },
   "source": [
    "## Download weights"
   ]
  },
  {
   "cell_type": "code",
   "execution_count": 21,
   "id": "288e60ba",
   "metadata": {
    "execution": {
     "iopub.execute_input": "2022-10-09T09:06:08.630373Z",
     "iopub.status.busy": "2022-10-09T09:06:08.629208Z",
     "iopub.status.idle": "2022-10-09T09:06:10.284306Z",
     "shell.execute_reply": "2022-10-09T09:06:10.283121Z"
    },
    "papermill": {
     "duration": 1.666342,
     "end_time": "2022-10-09T09:06:10.286713",
     "exception": false,
     "start_time": "2022-10-09T09:06:08.620371",
     "status": "completed"
    },
    "tags": []
   },
   "outputs": [
    {
     "name": "stdout",
     "output_type": "stream",
     "text": [
      "--2022-10-09 09:06:09--  https://github.com/SpryGorgon/YOLOv5/raw/main/yolov5s_1280_10.pt\r\n",
      "Resolving github.com (github.com)... 140.82.112.4\r\n",
      "Connecting to github.com (github.com)|140.82.112.4|:443... connected.\r\n",
      "HTTP request sent, awaiting response... 302 Found\r\n",
      "Location: https://raw.githubusercontent.com/SpryGorgon/YOLOv5/main/yolov5s_1280_10.pt [following]\r\n",
      "--2022-10-09 09:06:09--  https://raw.githubusercontent.com/SpryGorgon/YOLOv5/main/yolov5s_1280_10.pt\r\n",
      "Resolving raw.githubusercontent.com (raw.githubusercontent.com)... 185.199.110.133, 185.199.111.133, 185.199.109.133, ...\r\n",
      "Connecting to raw.githubusercontent.com (raw.githubusercontent.com)|185.199.110.133|:443... connected.\r\n",
      "HTTP request sent, awaiting response... 200 OK\r\n",
      "Length: 14624117 (14M) [application/octet-stream]\r\n",
      "Saving to: ‘yolov5s_1280_10.pt’\r\n",
      "\r\n",
      "yolov5s_1280_10.pt  100%[===================>]  13.95M  --.-KB/s    in 0.08s   \r\n",
      "\r\n",
      "2022-10-09 09:06:10 (174 MB/s) - ‘yolov5s_1280_10.pt’ saved [14624117/14624117]\r\n",
      "\r\n"
     ]
    }
   ],
   "source": [
    "!wget https://github.com/SpryGorgon/YOLOv5/raw/main/yolov5s_1280_10.pt"
   ]
  },
  {
   "cell_type": "markdown",
   "id": "afd65786",
   "metadata": {
    "papermill": {
     "duration": 0.008258,
     "end_time": "2022-10-09T09:06:10.303671",
     "exception": false,
     "start_time": "2022-10-09T09:06:10.295413",
     "status": "completed"
    },
    "tags": []
   },
   "source": [
    "## Training YOLOv5"
   ]
  },
  {
   "cell_type": "code",
   "execution_count": 22,
   "id": "ac7162d8",
   "metadata": {
    "execution": {
     "iopub.execute_input": "2022-10-09T09:06:10.323550Z",
     "iopub.status.busy": "2022-10-09T09:06:10.321790Z",
     "iopub.status.idle": "2022-10-09T15:13:37.926512Z",
     "shell.execute_reply": "2022-10-09T15:13:37.925335Z"
    },
    "id": "MT6Fw41HNamX",
    "outputId": "b588a0be-2ded-4fe1-954c-9801e86d27ca",
    "papermill": {
     "duration": 22047.616752,
     "end_time": "2022-10-09T15:13:37.928910",
     "exception": false,
     "start_time": "2022-10-09T09:06:10.312158",
     "status": "completed"
    },
    "tags": []
   },
   "outputs": [
    {
     "name": "stdout",
     "output_type": "stream",
     "text": [
      "/kaggle/working/yolov5\n",
      "\u001b[34m\u001b[1mwandb\u001b[0m: (1) Create a W&B account\r\n",
      "\u001b[34m\u001b[1mwandb\u001b[0m: (2) Use an existing W&B account\r\n",
      "\u001b[34m\u001b[1mwandb\u001b[0m: (3) Don't visualize my results\r\n",
      "\u001b[34m\u001b[1mwandb\u001b[0m: Enter your choice: (30 second timeout) \r\n",
      "\u001b[34m\u001b[1mwandb\u001b[0m: W&B disabled due to login timeout.\r\n",
      "\u001b[34m\u001b[1mtrain: \u001b[0mweights=../yolov5s_1280_10.pt, cfg=yolov5s.yaml, data=../sig.yaml, hyp=data/hyps/hyp.scratch-low.yaml, epochs=10, batch_size=-1, imgsz=1280, rect=False, resume=False, nosave=False, noval=False, noautoanchor=False, noplots=False, evolve=None, bucket=, cache=disk, image_weights=False, device=0, multi_scale=False, single_cls=False, optimizer=SGD, sync_bn=False, workers=8, project=runs/train, name=exp, exist_ok=False, quad=False, cos_lr=False, label_smoothing=0.0, patience=100, freeze=[0], save_period=-1, seed=0, local_rank=-1, entity=None, upload_dataset=False, bbox_interval=-1, artifact_alias=latest\r\n",
      "\u001b[34m\u001b[1mgithub: \u001b[0mup to date with https://github.com/ultralytics/yolov5 ✅\r\n",
      "YOLOv5 🚀 v6.2-187-g5ef69ef Python-3.7.12 torch-1.11.0 CUDA:0 (Tesla P100-PCIE-16GB, 16281MiB)\r\n",
      "\r\n",
      "\u001b[34m\u001b[1mhyperparameters: \u001b[0mlr0=0.01, lrf=0.01, momentum=0.937, weight_decay=0.0005, warmup_epochs=3.0, warmup_momentum=0.8, warmup_bias_lr=0.1, box=0.05, cls=0.5, cls_pw=1.0, obj=1.0, obj_pw=1.0, iou_t=0.2, anchor_t=4.0, fl_gamma=0.0, hsv_h=0.015, hsv_s=0.7, hsv_v=0.4, degrees=0.0, translate=0.1, scale=0.5, shear=0.0, perspective=0.0, flipud=0.0, fliplr=0.5, mosaic=1.0, mixup=0.0, copy_paste=0.0\r\n",
      "\u001b[34m\u001b[1mWeights & Biases: \u001b[0mrun 'pip install wandb' to automatically track and visualize YOLOv5 🚀 runs in Weights & Biases\r\n",
      "\u001b[34m\u001b[1mClearML: \u001b[0mrun 'pip install clearml' to automatically track, visualize and remotely train YOLOv5 🚀 in ClearML\r\n",
      "\u001b[34m\u001b[1mComet: \u001b[0mrun 'pip install comet_ml' to automatically track and visualize YOLOv5 🚀 runs in Comet\r\n",
      "\u001b[34m\u001b[1mTensorBoard: \u001b[0mStart with 'tensorboard --logdir runs/train', view at http://localhost:6006/\r\n",
      "Downloading https://ultralytics.com/assets/Arial.ttf to /root/.config/Ultralytics/Arial.ttf...\r\n",
      "100%|████████████████████████████████████████| 755k/755k [00:00<00:00, 30.0MB/s]\r\n",
      "Overriding model.yaml nc=80 with nc=2\r\n",
      "\r\n",
      "                 from  n    params  module                                  arguments                     \r\n",
      "  0                -1  1      3520  models.common.Conv                      [3, 32, 6, 2, 2]              \r\n",
      "  1                -1  1     18560  models.common.Conv                      [32, 64, 3, 2]                \r\n",
      "  2                -1  1     18816  models.common.C3                        [64, 64, 1]                   \r\n",
      "  3                -1  1     73984  models.common.Conv                      [64, 128, 3, 2]               \r\n",
      "  4                -1  2    115712  models.common.C3                        [128, 128, 2]                 \r\n",
      "  5                -1  1    295424  models.common.Conv                      [128, 256, 3, 2]              \r\n",
      "  6                -1  3    625152  models.common.C3                        [256, 256, 3]                 \r\n",
      "  7                -1  1   1180672  models.common.Conv                      [256, 512, 3, 2]              \r\n",
      "  8                -1  1   1182720  models.common.C3                        [512, 512, 1]                 \r\n",
      "  9                -1  1    656896  models.common.SPPF                      [512, 512, 5]                 \r\n",
      " 10                -1  1    131584  models.common.Conv                      [512, 256, 1, 1]              \r\n",
      " 11                -1  1         0  torch.nn.modules.upsampling.Upsample    [None, 2, 'nearest']          \r\n",
      " 12           [-1, 6]  1         0  models.common.Concat                    [1]                           \r\n",
      " 13                -1  1    361984  models.common.C3                        [512, 256, 1, False]          \r\n",
      " 14                -1  1     33024  models.common.Conv                      [256, 128, 1, 1]              \r\n",
      " 15                -1  1         0  torch.nn.modules.upsampling.Upsample    [None, 2, 'nearest']          \r\n",
      " 16           [-1, 4]  1         0  models.common.Concat                    [1]                           \r\n",
      " 17                -1  1     90880  models.common.C3                        [256, 128, 1, False]          \r\n",
      " 18                -1  1    147712  models.common.Conv                      [128, 128, 3, 2]              \r\n",
      " 19          [-1, 14]  1         0  models.common.Concat                    [1]                           \r\n",
      " 20                -1  1    296448  models.common.C3                        [256, 256, 1, False]          \r\n",
      " 21                -1  1    590336  models.common.Conv                      [256, 256, 3, 2]              \r\n",
      " 22          [-1, 10]  1         0  models.common.Concat                    [1]                           \r\n",
      " 23                -1  1   1182720  models.common.C3                        [512, 512, 1, False]          \r\n",
      " 24      [17, 20, 23]  1     18879  models.yolo.Detect                      [2, [[10, 13, 16, 30, 33, 23], [30, 61, 62, 45, 59, 119], [116, 90, 156, 198, 373, 326]], [128, 256, 512]]\r\n",
      "YOLOv5s summary: 214 layers, 7025023 parameters, 7025023 gradients, 16.0 GFLOPs\r\n",
      "\r\n",
      "Transferred 348/349 items from ../yolov5s_1280_10.pt\r\n",
      "\u001b[34m\u001b[1mAMP: \u001b[0mchecks passed ✅\r\n",
      "\u001b[34m\u001b[1mAutoBatch: \u001b[0mComputing optimal batch size for --imgsz 1280\r\n",
      "\u001b[34m\u001b[1mAutoBatch: \u001b[0mCUDA:0 (Tesla P100-PCIE-16GB) 15.90G total, 0.10G reserved, 0.05G allocated, 15.75G free\r\n",
      "      Params      GFLOPs  GPU_mem (GB)  forward (ms) backward (ms)                   input                  output\r\n",
      "     7025023       63.82         0.816         78.74         58.42      (1, 3, 1280, 1280)                    list\r\n",
      "     7025023       127.6         1.504         45.04         83.64      (2, 3, 1280, 1280)                    list\r\n",
      "     7025023       255.3         2.915         68.64         150.5      (4, 3, 1280, 1280)                    list\r\n",
      "     7025023       510.5         5.996         118.8           191      (8, 3, 1280, 1280)                    list\r\n",
      "     7025023        1021        12.554         238.1         329.2     (16, 3, 1280, 1280)                    list\r\n",
      "\u001b[34m\u001b[1mAutoBatch: \u001b[0mUsing batch-size 16 for CUDA:0 12.60G/15.90G (79%) ✅\r\n",
      "\u001b[34m\u001b[1moptimizer:\u001b[0m SGD(lr=0.01) with parameter groups 57 weight(decay=0.0), 60 weight(decay=0.0005), 60 bias\r\n",
      "\u001b[34m\u001b[1malbumentations: \u001b[0mBlur(p=0.01, blur_limit=(3, 7)), MedianBlur(p=0.01, blur_limit=(3, 7)), ToGray(p=0.01), CLAHE(p=0.01, clip_limit=(1, 4.0), tile_grid_size=(8, 8))\r\n",
      "\u001b[34m\u001b[1mtrain: \u001b[0mScanning '/kaggle/temp/dataset/labels/train' images and labels...4999 fou\u001b[0m\r\n",
      "\u001b[34m\u001b[1mtrain: \u001b[0mNew cache created: /kaggle/temp/dataset/labels/train.cache\r\n",
      "\u001b[34m\u001b[1mtrain: \u001b[0mCaching images (37.7GB disk): 100%|██████████| 4999/4999 [06:50<00:00, 12\u001b[0m\r\n",
      "\u001b[34m\u001b[1mval: \u001b[0mScanning '/kaggle/temp/dataset/labels/valid' images and labels...488 found,\u001b[0m\r\n",
      "\u001b[34m\u001b[1mval: \u001b[0mNew cache created: /kaggle/temp/dataset/labels/valid.cache\r\n",
      "\u001b[34m\u001b[1mval: \u001b[0mCaching images (3.7GB disk): 100%|██████████| 488/488 [00:34<00:00, 14.20it\u001b[0m\r\n",
      "\r\n",
      "\u001b[34m\u001b[1mAutoAnchor: \u001b[0m4.83 anchors/target, 1.000 Best Possible Recall (BPR). Current anchors are a good fit to dataset ✅\r\n",
      "Plotting labels to runs/train/exp/labels.jpg... \r\n",
      "Image sizes 1280 train, 1280 val\r\n",
      "Using 2 dataloader workers\r\n",
      "Logging results to \u001b[1mruns/train/exp\u001b[0m\r\n",
      "Starting training for 10 epochs...\r\n",
      "\r\n",
      "      Epoch    GPU_mem   box_loss   obj_loss   cls_loss  Instances       Size\r\n",
      "        0/9      12.4G    0.01882   0.008711   0.001074         18       1280: 1\r\n",
      "                 Class     Images  Instances          P          R      mAP50   \r\n",
      "                   all        488        600      0.987      0.988      0.994      0.816\r\n",
      "\r\n",
      "      Epoch    GPU_mem   box_loss   obj_loss   cls_loss  Instances       Size\r\n",
      "        1/9      12.5G    0.02179   0.009005   0.001166         12       1280: 1\r\n",
      "                 Class     Images  Instances          P          R      mAP50   \r\n",
      "                   all        488        600      0.986      0.979      0.993      0.752\r\n",
      "\r\n",
      "      Epoch    GPU_mem   box_loss   obj_loss   cls_loss  Instances       Size\r\n",
      "        2/9      12.5G    0.02423   0.009638   0.001522         14       1280: 1\r\n",
      "                 Class     Images  Instances          P          R      mAP50   \r\n",
      "                   all        488        600      0.974      0.978      0.989       0.77\r\n",
      "\r\n",
      "      Epoch    GPU_mem   box_loss   obj_loss   cls_loss  Instances       Size\r\n",
      "        3/9      12.5G    0.02469   0.009892   0.001685         14       1280: 1\r\n",
      "                 Class     Images  Instances          P          R      mAP50   \r\n",
      "                   all        488        600      0.985      0.968      0.992        0.8\r\n",
      "\r\n",
      "      Epoch    GPU_mem   box_loss   obj_loss   cls_loss  Instances       Size\r\n",
      "        4/9      12.5G    0.02387   0.009893   0.001847         22       1280: 1\r\n",
      "                 Class     Images  Instances          P          R      mAP50   \r\n",
      "                   all        488        600      0.977      0.973      0.989      0.787\r\n",
      "\r\n",
      "      Epoch    GPU_mem   box_loss   obj_loss   cls_loss  Instances       Size\r\n",
      "        5/9      12.5G    0.02253   0.009552   0.001396         24       1280: 1\r\n",
      "                 Class     Images  Instances          P          R      mAP50   \r\n",
      "                   all        488        600      0.991      0.974      0.991      0.785\r\n",
      "\r\n",
      "      Epoch    GPU_mem   box_loss   obj_loss   cls_loss  Instances       Size\r\n",
      "        6/9      12.5G    0.02116   0.009138   0.001406         12       1280: 1\r\n",
      "                 Class     Images  Instances          P          R      mAP50   \r\n",
      "                   all        488        600      0.977      0.979      0.991      0.803\r\n",
      "\r\n",
      "      Epoch    GPU_mem   box_loss   obj_loss   cls_loss  Instances       Size\r\n",
      "        7/9      12.5G    0.01957    0.00862   0.001166         14       1280: 1\r\n",
      "                 Class     Images  Instances          P          R      mAP50   \r\n",
      "                   all        488        600      0.986      0.983      0.993      0.812\r\n",
      "\r\n",
      "      Epoch    GPU_mem   box_loss   obj_loss   cls_loss  Instances       Size\r\n",
      "        8/9      12.5G    0.01849   0.008287  0.0008681         17       1280: 1\r\n",
      "                 Class     Images  Instances          P          R      mAP50   \r\n",
      "                   all        488        600      0.987      0.987      0.994      0.826\r\n",
      "\r\n",
      "      Epoch    GPU_mem   box_loss   obj_loss   cls_loss  Instances       Size\r\n",
      "        9/9      12.5G    0.01748   0.008123  0.0008536         12       1280: 1\r\n",
      "                 Class     Images  Instances          P          R      mAP50   \r\n",
      "                   all        488        600      0.996      0.981      0.994      0.827\r\n",
      "\r\n",
      "10 epochs completed in 5.934 hours.\r\n",
      "Optimizer stripped from runs/train/exp/weights/last.pt, 14.6MB\r\n",
      "Optimizer stripped from runs/train/exp/weights/best.pt, 14.6MB\r\n",
      "\r\n",
      "Validating runs/train/exp/weights/best.pt...\r\n",
      "Fusing layers... \r\n",
      "YOLOv5s summary: 157 layers, 7015519 parameters, 0 gradients, 15.8 GFLOPs\r\n",
      "                 Class     Images  Instances          P          R      mAP50   \r\n",
      "                   all        488        600      0.996      0.981      0.994      0.827\r\n",
      "            no_gesture        488        350      0.992      0.963      0.994      0.817\r\n",
      "                  call        488        250      0.999          1      0.995      0.838\r\n",
      "Results saved to \u001b[1mruns/train/exp\u001b[0m\r\n",
      "Exception ignored in: <function _MultiProcessingDataLoaderIter.__del__ at 0x7f8f8ea81f80>\r\n",
      "Traceback (most recent call last):\r\n",
      "  File \"/opt/conda/lib/python3.7/site-packages/torch/utils/data/dataloader.py\", line 1358, in __del__\r\n",
      "  File \"/opt/conda/lib/python3.7/site-packages/torch/utils/data/dataloader.py\", line 1283, in _shutdown_workers\r\n",
      "AttributeError: 'NoneType' object has no attribute 'python_exit_status'\r\n",
      "Exception ignored in: <function _MultiProcessingDataLoaderIter.__del__ at 0x7f8f8ea81f80>\r\n",
      "Traceback (most recent call last):\r\n",
      "  File \"/opt/conda/lib/python3.7/site-packages/torch/utils/data/dataloader.py\", line 1358, in __del__\r\n",
      "  File \"/opt/conda/lib/python3.7/site-packages/torch/utils/data/dataloader.py\", line 1283, in _shutdown_workers\r\n",
      "AttributeError: 'NoneType' object has no attribute 'python_exit_status'\r\n",
      "/kaggle/working\n"
     ]
    }
   ],
   "source": [
    "%cd yolov5\n",
    "!python train.py --img 1280 --batch -1 --epochs 10 --data '../sig.yaml' --cfg yolov5s.yaml --weights ../yolov5s_1280_10.pt --cache disk --device 0\n",
    "%cd .."
   ]
  },
  {
   "cell_type": "code",
   "execution_count": 23,
   "id": "2f0bb190",
   "metadata": {
    "execution": {
     "iopub.execute_input": "2022-10-09T15:13:38.693926Z",
     "iopub.status.busy": "2022-10-09T15:13:38.693492Z",
     "iopub.status.idle": "2022-10-09T15:13:38.698316Z",
     "shell.execute_reply": "2022-10-09T15:13:38.697304Z"
    },
    "papermill": {
     "duration": 0.409524,
     "end_time": "2022-10-09T15:13:38.700877",
     "exception": false,
     "start_time": "2022-10-09T15:13:38.291353",
     "status": "completed"
    },
    "tags": []
   },
   "outputs": [],
   "source": [
    "# !tensorboard --logdir yolov5/runs/train"
   ]
  },
  {
   "cell_type": "code",
   "execution_count": 24,
   "id": "3df32af9",
   "metadata": {
    "execution": {
     "iopub.execute_input": "2022-10-09T15:13:39.440932Z",
     "iopub.status.busy": "2022-10-09T15:13:39.440557Z",
     "iopub.status.idle": "2022-10-09T15:13:40.510514Z",
     "shell.execute_reply": "2022-10-09T15:13:40.509196Z"
    },
    "papermill": {
     "duration": 1.436348,
     "end_time": "2022-10-09T15:13:40.512950",
     "exception": false,
     "start_time": "2022-10-09T15:13:39.076602",
     "status": "completed"
    },
    "tags": []
   },
   "outputs": [],
   "source": [
    "!cp './yolov5/runs/train/exp/weights/best.pt' -r '/kaggle/working/yolov5s_1280_20.pt'"
   ]
  },
  {
   "cell_type": "markdown",
   "id": "f691dddb",
   "metadata": {
    "papermill": {
     "duration": 0.357714,
     "end_time": "2022-10-09T15:13:41.324687",
     "exception": false,
     "start_time": "2022-10-09T15:13:40.966973",
     "status": "completed"
    },
    "tags": []
   },
   "source": [
    "## Validating "
   ]
  },
  {
   "cell_type": "code",
   "execution_count": 25,
   "id": "ca2d56d3",
   "metadata": {
    "execution": {
     "iopub.execute_input": "2022-10-09T15:13:42.101887Z",
     "iopub.status.busy": "2022-10-09T15:13:42.101453Z",
     "iopub.status.idle": "2022-10-09T15:14:43.219230Z",
     "shell.execute_reply": "2022-10-09T15:14:43.217213Z"
    },
    "id": "NrWsa07POIVj",
    "outputId": "26c7b0a6-1cfe-4283-edd8-d8d770153e28",
    "papermill": {
     "duration": 61.538086,
     "end_time": "2022-10-09T15:14:43.222225",
     "exception": false,
     "start_time": "2022-10-09T15:13:41.684139",
     "status": "completed"
    },
    "tags": []
   },
   "outputs": [
    {
     "name": "stdout",
     "output_type": "stream",
     "text": [
      "/kaggle/working/yolov5\n",
      "\u001b[34m\u001b[1mval: \u001b[0mdata=../sig.yaml, weights=['./runs/train/exp/weights/best.pt'], batch_size=32, imgsz=1280, conf_thres=0.001, iou_thres=0.6, max_det=300, task=val, device=0, workers=8, single_cls=False, augment=False, verbose=False, save_txt=False, save_hybrid=False, save_conf=False, save_json=False, project=runs/val, name=exp, exist_ok=False, half=False, dnn=False\r\n",
      "YOLOv5 🚀 v6.2-187-g5ef69ef Python-3.7.12 torch-1.11.0 CUDA:0 (Tesla P100-PCIE-16GB, 16281MiB)\r\n",
      "\r\n",
      "Fusing layers... \r\n",
      "YOLOv5s summary: 157 layers, 7015519 parameters, 0 gradients, 15.8 GFLOPs\r\n",
      "\u001b[34m\u001b[1mval: \u001b[0mScanning '/kaggle/temp/dataset/labels/valid.cache' images and labels... 488\u001b[0m\r\n",
      "                 Class     Images  Instances          P          R      mAP50   \r\n",
      "                   all        488        600      0.996      0.981      0.994      0.828\r\n",
      "            no_gesture        488        350      0.992      0.963      0.994      0.817\r\n",
      "                  call        488        250      0.999          1      0.995      0.839\r\n",
      "Speed: 2.2ms pre-process, 11.3ms inference, 2.1ms NMS per image at shape (32, 3, 1280, 1280)\r\n",
      "Results saved to \u001b[1mruns/val/exp\u001b[0m\r\n",
      "/kaggle/working\n"
     ]
    }
   ],
   "source": [
    "%cd yolov5\n",
    "!python val.py --weights './runs/train/exp/weights/best.pt' --data '../sig.yaml' --img 1280 --device 0\n",
    "%cd .."
   ]
  },
  {
   "cell_type": "code",
   "execution_count": 26,
   "id": "26d15b59",
   "metadata": {
    "execution": {
     "iopub.execute_input": "2022-10-09T15:14:43.971592Z",
     "iopub.status.busy": "2022-10-09T15:14:43.971207Z",
     "iopub.status.idle": "2022-10-09T15:14:43.975919Z",
     "shell.execute_reply": "2022-10-09T15:14:43.974941Z"
    },
    "id": "E3rZN4JqfOOO",
    "papermill": {
     "duration": 0.380204,
     "end_time": "2022-10-09T15:14:43.977893",
     "exception": false,
     "start_time": "2022-10-09T15:14:43.597689",
     "status": "completed"
    },
    "tags": []
   },
   "outputs": [],
   "source": [
    "# %cp '/yolov5/runs/train/exp/weights/best.pt' -r '/yolov5m_1024p_300.pt'"
   ]
  },
  {
   "cell_type": "code",
   "execution_count": 27,
   "id": "c6bc84e9",
   "metadata": {
    "execution": {
     "iopub.execute_input": "2022-10-09T15:14:44.814493Z",
     "iopub.status.busy": "2022-10-09T15:14:44.813999Z",
     "iopub.status.idle": "2022-10-09T15:14:44.819801Z",
     "shell.execute_reply": "2022-10-09T15:14:44.818779Z"
    },
    "papermill": {
     "duration": 0.381772,
     "end_time": "2022-10-09T15:14:44.821724",
     "exception": false,
     "start_time": "2022-10-09T15:14:44.439952",
     "status": "completed"
    },
    "tags": []
   },
   "outputs": [],
   "source": [
    "from PIL import Image\n",
    "# img = Image.open('yolov5/runs/val/exp/val_batch2_pred.jpg')\n",
    "# img.show()\n",
    "\n",
    "\n",
    "# model = torch.hub.load('yolov5', 'custom', path='yolov5n_640_30.pt', source='local')\n",
    "# imgs = ['/kaggle/temp/dataset/images/valid/' + x + '.jpg' for x in dataset_files['valid']]\n",
    "# results = model(['/kaggle/temp/dataset/images/valid/e9524db2-1590-4c77-a084-ac217907e56f.jpg'])\n",
    "# results.print()\n",
    "# results.show()"
   ]
  },
  {
   "cell_type": "code",
   "execution_count": 28,
   "id": "a720a78e",
   "metadata": {
    "execution": {
     "iopub.execute_input": "2022-10-09T15:14:45.868579Z",
     "iopub.status.busy": "2022-10-09T15:14:45.868151Z",
     "iopub.status.idle": "2022-10-09T15:14:45.872425Z",
     "shell.execute_reply": "2022-10-09T15:14:45.871570Z"
    },
    "papermill": {
     "duration": 0.57703,
     "end_time": "2022-10-09T15:14:45.876766",
     "exception": false,
     "start_time": "2022-10-09T15:14:45.299736",
     "status": "completed"
    },
    "tags": []
   },
   "outputs": [],
   "source": [
    "# !ls /kaggle/temp/dataset/images/valid"
   ]
  },
  {
   "cell_type": "markdown",
   "id": "bac6659e",
   "metadata": {
    "papermill": {
     "duration": 0.384557,
     "end_time": "2022-10-09T15:14:46.797653",
     "exception": false,
     "start_time": "2022-10-09T15:14:46.413096",
     "status": "completed"
    },
    "tags": []
   },
   "source": [
    "## Detecting"
   ]
  },
  {
   "cell_type": "code",
   "execution_count": 29,
   "id": "4068ffbf",
   "metadata": {
    "collapsed": true,
    "execution": {
     "iopub.execute_input": "2022-10-09T15:14:47.633837Z",
     "iopub.status.busy": "2022-10-09T15:14:47.633391Z",
     "iopub.status.idle": "2022-10-09T15:16:07.587570Z",
     "shell.execute_reply": "2022-10-09T15:16:07.586105Z"
    },
    "jupyter": {
     "outputs_hidden": true
    },
    "papermill": {
     "duration": 80.330046,
     "end_time": "2022-10-09T15:16:07.590113",
     "exception": false,
     "start_time": "2022-10-09T15:14:47.260067",
     "status": "completed"
    },
    "tags": []
   },
   "outputs": [
    {
     "name": "stdout",
     "output_type": "stream",
     "text": [
      "/kaggle/working/yolov5\n",
      "\u001b[34m\u001b[1mdetect: \u001b[0mweights=['./runs/train/exp/weights/best.pt'], source=/kaggle/temp/dataset/images/valid, data=data/coco128.yaml, imgsz=[1280, 1280], conf_thres=0.25, iou_thres=0.45, max_det=1000, device=0, view_img=False, save_txt=False, save_conf=False, save_crop=False, nosave=False, classes=None, agnostic_nms=False, augment=False, visualize=False, update=False, project=runs/detect, name=exp, exist_ok=False, line_thickness=3, hide_labels=False, hide_conf=False, half=False, dnn=False, vid_stride=1\r\n",
      "YOLOv5 🚀 v6.2-187-g5ef69ef Python-3.7.12 torch-1.11.0 CUDA:0 (Tesla P100-PCIE-16GB, 16281MiB)\r\n",
      "\r\n",
      "Fusing layers... \r\n",
      "YOLOv5s summary: 157 layers, 7015519 parameters, 0 gradients, 15.8 GFLOPs\r\n",
      "image 1/488 /kaggle/temp/dataset/images/valid/193f9273-9590-4337-bbea-162dde922a58.jpg: 1280x960 1 call, 12.0ms\r\n",
      "image 2/488 /kaggle/temp/dataset/images/valid/1955eef0-3514-4043-baa6-bb10d0eb0147.jpg: 1280x608 1 no_gesture, 1 call, 11.7ms\r\n",
      "image 3/488 /kaggle/temp/dataset/images/valid/1957f93d-6621-4bca-b68e-c05e22ebe3a5.jpg: 1280x960 1 call, 12.0ms\r\n",
      "image 4/488 /kaggle/temp/dataset/images/valid/19673cd2-8142-4487-a212-93f71c000c8f.jpg: 1280x960 1 no_gesture, 1 call, 11.8ms\r\n",
      "image 5/488 /kaggle/temp/dataset/images/valid/1977620c-eed3-4686-afce-1fb930aad7bc.jpg: 736x1280 1 call, 10.7ms\r\n",
      "image 6/488 /kaggle/temp/dataset/images/valid/1983aa3d-4db5-428d-b91d-aaa4c46d1585.jpg: 1280x960 1 call, 11.9ms\r\n",
      "image 7/488 /kaggle/temp/dataset/images/valid/1991531f-0dc9-408b-8731-6847ca3ec2ce.jpg: 1280x960 1 call, 11.8ms\r\n",
      "image 8/488 /kaggle/temp/dataset/images/valid/199cc9e5-786d-47c1-a825-5a37996aa67f.jpg: 1280x960 1 no_gesture, 1 call, 11.9ms\r\n",
      "image 9/488 /kaggle/temp/dataset/images/valid/19a5e4c5-1f06-43f2-89bf-bff51c18969b.jpg: 1280x960 1 call, 11.9ms\r\n",
      "image 10/488 /kaggle/temp/dataset/images/valid/19c459b2-f263-4004-9273-ae4b94b4a741.jpg: 1280x960 1 call, 11.9ms\r\n",
      "image 11/488 /kaggle/temp/dataset/images/valid/19caf6e3-6f51-4568-aca1-19980ffc312a.jpg: 1280x960 1 call, 11.9ms\r\n",
      "image 12/488 /kaggle/temp/dataset/images/valid/19cdfc0d-5f6a-4520-9ecc-fa39c3c12f07.jpg: 1280x960 1 call, 12.0ms\r\n",
      "image 13/488 /kaggle/temp/dataset/images/valid/19f263c1-0672-4dd2-b5a4-284fdabd44d3.jpg: 1280x960 1 call, 11.9ms\r\n",
      "image 14/488 /kaggle/temp/dataset/images/valid/1a25fcee-2683-4795-8875-fad3faa1e149.jpg: 1280x1280 1 call, 14.9ms\r\n",
      "image 15/488 /kaggle/temp/dataset/images/valid/1a546a46-d6c3-4831-b608-80c0089d56a9.jpg: 1280x960 1 call, 12.0ms\r\n",
      "image 16/488 /kaggle/temp/dataset/images/valid/1a76ff95-3265-42b9-8678-fedfb22c81ca.jpg: 1280x960 1 call, 11.9ms\r\n",
      "image 17/488 /kaggle/temp/dataset/images/valid/1a770658-b1e0-4dba-afb0-fce69ef99209.jpg: 1280x960 1 no_gesture, 1 call, 11.9ms\r\n",
      "image 18/488 /kaggle/temp/dataset/images/valid/1a7b1030-adee-4cbd-908a-0b9c91060219.jpg: 1280x960 1 call, 11.9ms\r\n",
      "image 19/488 /kaggle/temp/dataset/images/valid/1a7bedf6-be68-43e5-ba14-ffd8d84ecf3b.jpg: 1280x960 1 call, 11.9ms\r\n",
      "image 20/488 /kaggle/temp/dataset/images/valid/1a9f14cf-ac40-456d-a9ce-885866122453.jpg: 1280x736 1 call, 14.3ms\r\n",
      "image 21/488 /kaggle/temp/dataset/images/valid/1acf4adf-4ac9-4fe6-bfea-4bcb6db08ce3.jpg: 1280x960 1 call, 11.9ms\r\n",
      "image 22/488 /kaggle/temp/dataset/images/valid/1ae83283-a2fc-4dd7-b3f7-7832a2770d8b.jpg: 1280x960 1 call, 11.9ms\r\n",
      "image 23/488 /kaggle/temp/dataset/images/valid/1b14a532-87e3-49f4-99bb-38390349b700.jpg: 1280x960 1 no_gesture, 1 call, 11.9ms\r\n",
      "image 24/488 /kaggle/temp/dataset/images/valid/1b2674f1-5333-4a3b-8ee9-635286564553.jpg: 736x1280 1 call, 10.7ms\r\n",
      "image 25/488 /kaggle/temp/dataset/images/valid/1b2bc2bc-d4a1-4570-a832-335c6970c399.jpg: 1280x736 1 call, 10.3ms\r\n",
      "image 26/488 /kaggle/temp/dataset/images/valid/1b62f308-0ed7-4602-84d7-944f135e4322.jpg: 992x1280 1 call, 12.3ms\r\n",
      "image 27/488 /kaggle/temp/dataset/images/valid/1b78f3b1-7724-4534-8de0-143d03c14207.jpg: 1280x960 1 call, 11.9ms\r\n",
      "image 28/488 /kaggle/temp/dataset/images/valid/1b7adc6e-045d-4b48-a999-de81eef0ca53.jpg: 1280x960 1 call, 11.9ms\r\n",
      "image 29/488 /kaggle/temp/dataset/images/valid/1b7ecf08-da04-4fe5-acd7-7abe1180a69d.jpg: 1280x960 1 call, 11.9ms\r\n",
      "image 30/488 /kaggle/temp/dataset/images/valid/1b84788d-c193-4ac5-b506-bbe37635ff12.jpg: 1280x960 1 call, 11.9ms\r\n",
      "image 31/488 /kaggle/temp/dataset/images/valid/1bb994ba-ca12-4e1c-bdda-ec4854a07250.jpg: 1280x608 1 call, 8.7ms\r\n",
      "image 32/488 /kaggle/temp/dataset/images/valid/1bc42f4e-77ea-4b9e-9ba0-3b565c0eb349.jpg: 1280x960 1 call, 12.0ms\r\n",
      "image 33/488 /kaggle/temp/dataset/images/valid/1bcce6d4-56be-4fe1-8f3b-f0734e3cc755.jpg: 1280x960 1 no_gesture, 2 calls, 12.0ms\r\n",
      "image 34/488 /kaggle/temp/dataset/images/valid/1bcead7e-bef6-43c7-954f-4d75e3be9c01.jpg: 1280x960 1 call, 11.8ms\r\n",
      "image 35/488 /kaggle/temp/dataset/images/valid/1bda66db-f914-4f48-b208-3e0d47f2e3c0.jpg: 1280x960 1 call, 11.9ms\r\n",
      "image 36/488 /kaggle/temp/dataset/images/valid/1bf3eaf9-bd32-46ce-af38-087211c4a34c.jpg: 1280x576 1 call, 22.1ms\r\n",
      "image 37/488 /kaggle/temp/dataset/images/valid/1c497e50-b564-431b-9211-615dfab53a80.jpg: 1280x960 1 call, 11.9ms\r\n",
      "image 38/488 /kaggle/temp/dataset/images/valid/1cc524b0-3c9b-4c76-9292-09f0bb2f151c.jpg: 1280x960 1 call, 11.9ms\r\n",
      "image 39/488 /kaggle/temp/dataset/images/valid/1cc649b2-fcd2-4264-94f3-aa64c650e917.jpg: 960x1280 1 no_gesture, 12.6ms\r\n",
      "image 40/488 /kaggle/temp/dataset/images/valid/1ccc091f-961e-4e98-bae9-7f02d8246316.jpg: 1280x736 1 call, 10.3ms\r\n",
      "image 41/488 /kaggle/temp/dataset/images/valid/1cd0b760-2439-4bd6-b73c-7b9f7b5d3f6b.jpg: 1280x960 1 no_gesture, 1 call, 12.1ms\r\n",
      "image 42/488 /kaggle/temp/dataset/images/valid/1cde47b7-0e0f-4ec5-85ef-f4f526d2a614.jpg: 1280x960 1 call, 11.9ms\r\n",
      "image 43/488 /kaggle/temp/dataset/images/valid/1ce16233-081b-48d7-b368-cb2e0cd4d12d.jpg: 1280x960 2 no_gestures, 13.0ms\r\n",
      "image 44/488 /kaggle/temp/dataset/images/valid/1ce1d7bf-6fb1-4bb9-8162-a087dec7c979.jpg: 1280x608 1 call, 9.5ms\r\n",
      "image 45/488 /kaggle/temp/dataset/images/valid/1ce23e1f-c602-4cad-86ed-ca78a000d085.jpg: 1280x960 1 call, 12.9ms\r\n",
      "image 46/488 /kaggle/temp/dataset/images/valid/1ce79a94-aa69-4c9c-8076-4c6ee2df4f72.jpg: 1280x960 1 call, 12.9ms\r\n",
      "image 47/488 /kaggle/temp/dataset/images/valid/1cf132f0-512e-45bf-9b0c-283f9d1f67ec.jpg: 736x1280 2 no_gestures, 11.7ms\r\n",
      "image 48/488 /kaggle/temp/dataset/images/valid/1cf417bc-e7ed-425d-8e47-e8bd7158af2b.jpg: 1280x960 1 call, 13.1ms\r\n",
      "image 49/488 /kaggle/temp/dataset/images/valid/1cf492a1-fd20-4812-a508-67b59aec2881.jpg: 1280x960 1 call, 12.9ms\r\n",
      "image 50/488 /kaggle/temp/dataset/images/valid/1cf648d9-8e1b-42ac-89eb-7c6e78f63841.jpg: 960x1280 1 no_gesture, 1 call, 13.6ms\r\n",
      "image 51/488 /kaggle/temp/dataset/images/valid/1cf85657-8e5d-4804-874f-cd81f22856f2.jpg: 1280x960 2 no_gestures, 13.0ms\r\n",
      "image 52/488 /kaggle/temp/dataset/images/valid/1cfd50ad-7d38-4d17-a03b-17d26f053413.jpg: 1280x960 1 call, 12.9ms\r\n",
      "image 53/488 /kaggle/temp/dataset/images/valid/1d302380-e999-464e-b408-91e48f34d954.jpg: 1280x608 1 no_gesture, 9.5ms\r\n",
      "image 54/488 /kaggle/temp/dataset/images/valid/1d78fc26-ab89-4dc2-a8ad-262c1b5f5b4c.jpg: 1280x960 1 no_gesture, 13.1ms\r\n",
      "image 55/488 /kaggle/temp/dataset/images/valid/1d79ab1e-4f3a-4bd5-9a7a-c7265b8fb90f.jpg: 1280x960 1 call, 12.9ms\r\n",
      "image 56/488 /kaggle/temp/dataset/images/valid/1d825062-c2b0-4462-a99c-714fbd38d4fa.jpg: 1280x960 2 no_gestures, 12.9ms\r\n",
      "image 57/488 /kaggle/temp/dataset/images/valid/1d85b6c0-2d85-4b68-a449-91f45b5912f5.jpg: 960x1280 (no detections), 13.6ms\r\n",
      "image 58/488 /kaggle/temp/dataset/images/valid/1d913ecd-8980-4585-b677-9fb2d2497677.jpg: 1280x960 1 no_gesture, 13.0ms\r\n",
      "image 59/488 /kaggle/temp/dataset/images/valid/1d98bd4a-f57d-48aa-8a7c-1f300698e0ae.jpg: 1280x960 1 call, 12.9ms\r\n",
      "image 60/488 /kaggle/temp/dataset/images/valid/1da23243-3773-4bd0-8a43-f992b7a70c78.jpg: 1280x960 1 no_gesture, 12.9ms\r\n",
      "image 61/488 /kaggle/temp/dataset/images/valid/1dae3527-f278-40bd-9575-917d81145743.jpg: 1280x960 1 no_gesture, 12.9ms\r\n",
      "image 62/488 /kaggle/temp/dataset/images/valid/1dbec3c3-7641-4eb4-a9a6-fe998c654510.jpg: 1280x960 1 no_gesture, 12.9ms\r\n",
      "image 63/488 /kaggle/temp/dataset/images/valid/1dbf76ff-acff-4150-bd4e-6b9f982b9554.jpg: 1280x960 1 no_gesture, 1 call, 12.9ms\r\n",
      "image 64/488 /kaggle/temp/dataset/images/valid/1dc0fe10-1b29-499b-9a77-346db7d3fe01.jpg: 1280x960 1 no_gesture, 1 call, 13.0ms\r\n",
      "image 65/488 /kaggle/temp/dataset/images/valid/1dc44a38-63f5-4539-9a71-aad62362b1a6.jpg: 1280x960 2 no_gestures, 12.9ms\r\n",
      "image 66/488 /kaggle/temp/dataset/images/valid/1dc44fd4-be8e-42b2-b999-739ba2e817e1.jpg: 960x1280 1 call, 13.6ms\r\n",
      "image 67/488 /kaggle/temp/dataset/images/valid/1dc6714f-6fad-4c89-bf43-e219955b71b5.jpg: 1280x960 2 no_gestures, 13.0ms\r\n",
      "image 68/488 /kaggle/temp/dataset/images/valid/1dc92542-d9a4-4792-9006-5cff595190cb.jpg: 1280x960 1 no_gesture, 1 call, 12.9ms\r\n",
      "image 69/488 /kaggle/temp/dataset/images/valid/1dcbaf60-386c-48e0-bb13-073898d37ffe.jpg: 1280x960 1 no_gesture, 12.9ms\r\n",
      "image 70/488 /kaggle/temp/dataset/images/valid/1ddaadb2-217c-44af-b63e-8e1f7fde9c48.jpg: 960x1280 1 no_gesture, 13.6ms\r\n",
      "image 71/488 /kaggle/temp/dataset/images/valid/1ddd649c-4050-44f2-bbba-93ab05678833.jpg: 960x1280 2 no_gestures, 13.5ms\r\n",
      "image 72/488 /kaggle/temp/dataset/images/valid/1ded5dfd-00c3-425a-8a23-02706e530332.jpg: 1280x992 1 no_gesture, 13.2ms\r\n",
      "image 73/488 /kaggle/temp/dataset/images/valid/1deed1a6-583e-4f78-a28f-324a8cf59f3a.jpg: 1280x960 1 no_gesture, 12.9ms\r\n",
      "image 74/488 /kaggle/temp/dataset/images/valid/1df1f277-5809-49a9-bbcf-3649423df88c.jpg: 736x1280 1 no_gesture, 11.6ms\r\n",
      "image 75/488 /kaggle/temp/dataset/images/valid/1df48c0f-8478-4ac9-9f60-09f9dae9e868.jpg: 1280x960 1 no_gesture, 13.0ms\r\n",
      "image 76/488 /kaggle/temp/dataset/images/valid/1df64de4-6f5d-4f08-a8fb-745d3bcfc316.jpg: 960x1280 3 no_gestures, 13.6ms\r\n",
      "image 77/488 /kaggle/temp/dataset/images/valid/1e0fce85-b85f-4482-8fa7-39ed5e6b3e14.jpg: 960x1280 1 call, 13.6ms\r\n",
      "image 78/488 /kaggle/temp/dataset/images/valid/1e151716-f365-4003-8bde-2b26bc037709.jpg: 1280x960 1 no_gesture, 13.0ms\r\n",
      "image 79/488 /kaggle/temp/dataset/images/valid/1e15963e-20a9-4f1e-8242-e5bebf632a0b.jpg: 1280x960 1 no_gesture, 13.1ms\r\n",
      "image 80/488 /kaggle/temp/dataset/images/valid/1e198ba9-a272-4e8a-a1c5-032640e29edc.jpg: 1280x960 1 no_gesture, 12.9ms\r\n",
      "image 81/488 /kaggle/temp/dataset/images/valid/1e1f208a-e31f-4801-a321-8ff76f282079.jpg: 1280x960 2 no_gestures, 12.9ms\r\n",
      "image 82/488 /kaggle/temp/dataset/images/valid/1e22d457-2e79-40b6-bd81-4a4b3080be48.jpg: 1280x960 1 no_gesture, 12.9ms\r\n",
      "image 83/488 /kaggle/temp/dataset/images/valid/1e34aa0c-5ac8-434e-b694-a4bb5ec60f5d.jpg: 1280x960 1 call, 12.9ms\r\n",
      "image 84/488 /kaggle/temp/dataset/images/valid/1e3646c2-27f2-4ee3-a74e-094b6d322874.jpg: 1280x960 2 no_gestures, 12.9ms\r\n",
      "image 85/488 /kaggle/temp/dataset/images/valid/1e3a8db9-2be2-4ebb-a74e-26dc6058e222.jpg: 1280x960 1 no_gesture, 1 call, 12.9ms\r\n",
      "image 86/488 /kaggle/temp/dataset/images/valid/1e4243a6-a832-4a12-9a84-36b2e21cb15b.jpg: 1280x960 1 no_gesture, 12.9ms\r\n",
      "image 87/488 /kaggle/temp/dataset/images/valid/1e49a57d-9a63-42c7-8797-1965b68a5310.jpg: 1280x960 1 no_gesture, 12.9ms\r\n",
      "image 88/488 /kaggle/temp/dataset/images/valid/1e49d550-eb7d-4c01-a0f4-d11dfb989c89.jpg: 960x1280 1 call, 13.6ms\r\n",
      "image 89/488 /kaggle/temp/dataset/images/valid/1e4d9dc8-108d-4b8d-9ab3-313a4f024a0f.jpg: 960x1280 2 no_gestures, 13.5ms\r\n",
      "image 90/488 /kaggle/temp/dataset/images/valid/1e5481be-8113-4566-982b-ee0251f06736.jpg: 1280x960 1 no_gesture, 12.9ms\r\n",
      "image 91/488 /kaggle/temp/dataset/images/valid/1e60f75d-07a6-4fce-81ae-57fd351ecacb.jpg: 1280x960 2 no_gestures, 13.0ms\r\n",
      "image 92/488 /kaggle/temp/dataset/images/valid/1e64948a-e755-4376-b6a6-06a36acd7e39.jpg: 1280x960 1 call, 12.9ms\r\n",
      "image 93/488 /kaggle/temp/dataset/images/valid/1e6873d3-a22d-43f7-a041-fc9db0e71eb4.jpg: 1280x960 1 no_gesture, 12.9ms\r\n",
      "image 94/488 /kaggle/temp/dataset/images/valid/1e6de5ef-b111-4b87-b2fd-2040e644b127.jpg: 1280x992 1 no_gesture, 13.2ms\r\n",
      "image 95/488 /kaggle/temp/dataset/images/valid/1e7769f3-b92b-40c9-b19c-b6ec5d3e6711.jpg: 1280x960 2 no_gestures, 12.9ms\r\n",
      "image 96/488 /kaggle/temp/dataset/images/valid/1e8239c8-f0b4-443e-8086-0d7a8c87ce2d.jpg: 1280x960 1 call, 12.9ms\r\n",
      "image 97/488 /kaggle/temp/dataset/images/valid/1e99ea81-ab2c-495e-9fa0-09abf76ed959.jpg: 1280x992 1 no_gesture, 13.2ms\r\n",
      "image 98/488 /kaggle/temp/dataset/images/valid/1e9c292f-8dd4-469c-9f62-5908d5bbfaba.jpg: 1280x992 1 no_gesture, 13.3ms\r\n",
      "image 99/488 /kaggle/temp/dataset/images/valid/1ea0b3ab-f5da-4d68-bf18-9fdd3d03cb98.jpg: 1280x960 1 no_gesture, 12.9ms\r\n",
      "image 100/488 /kaggle/temp/dataset/images/valid/1ea12f61-1753-4d4a-8383-fdb24fbabe08.jpg: 1280x960 1 call, 12.9ms\r\n",
      "image 101/488 /kaggle/temp/dataset/images/valid/1ea5a92e-c897-47b0-989e-350a701b9ea2.jpg: 1280x960 1 no_gesture, 12.9ms\r\n",
      "image 102/488 /kaggle/temp/dataset/images/valid/1eab7738-5d63-4c3d-a2ee-eb3dd8a1b0e2.jpg: 1280x992 1 no_gesture, 13.2ms\r\n",
      "image 103/488 /kaggle/temp/dataset/images/valid/1eaf9425-b16a-46ac-ab6d-11659c7bd581.jpg: 1280x960 1 call, 12.9ms\r\n",
      "image 104/488 /kaggle/temp/dataset/images/valid/1eb11f26-441a-42bd-9280-c2bb4c85a49f.jpg: 1280x960 1 no_gesture, 12.9ms\r\n",
      "image 105/488 /kaggle/temp/dataset/images/valid/1eb817e2-1b0e-4e50-9aea-10cc2d7f2e78.jpg: 960x1280 1 no_gesture, 13.6ms\r\n",
      "image 106/488 /kaggle/temp/dataset/images/valid/1eb856b1-986d-4fb9-a9d0-3380b51bf214.jpg: 736x1280 1 call, 11.6ms\r\n",
      "image 107/488 /kaggle/temp/dataset/images/valid/1eb89107-4c1f-4423-991c-6d7fc4783d63.jpg: 1280x960 1 call, 13.0ms\r\n",
      "image 108/488 /kaggle/temp/dataset/images/valid/1ebcdc24-0482-47d7-8434-a343fca4ac82.jpg: 1280x960 1 no_gesture, 13.1ms\r\n",
      "image 109/488 /kaggle/temp/dataset/images/valid/1ebee4ea-c8f5-46db-9272-618ec5920575.jpg: 1280x992 1 no_gesture, 13.2ms\r\n",
      "image 110/488 /kaggle/temp/dataset/images/valid/1ec30587-7b8e-4ed3-81d2-75b748ba820f.jpg: 1280x960 1 no_gesture, 13.1ms\r\n",
      "image 111/488 /kaggle/temp/dataset/images/valid/1ed19d3a-156a-47e5-a4f6-7af758300c9f.jpg: 1280x1280 1 call, 16.1ms\r\n",
      "image 112/488 /kaggle/temp/dataset/images/valid/1ed3f1d6-14a0-41c7-b26f-a287b94cc037.jpg: 1280x960 1 no_gesture, 12.9ms\r\n",
      "image 113/488 /kaggle/temp/dataset/images/valid/1ed4209b-ca86-4386-8d1f-a8c09be34854.jpg: 1280x960 1 no_gesture, 12.9ms\r\n",
      "image 114/488 /kaggle/temp/dataset/images/valid/1ed50e7e-db23-416b-a8ec-7c846e56ed7e.jpg: 1280x960 1 no_gesture, 12.9ms\r\n",
      "image 115/488 /kaggle/temp/dataset/images/valid/1ef02237-3c31-4af7-a416-3d1b07950eea.jpg: 1280x960 1 call, 12.9ms\r\n",
      "image 116/488 /kaggle/temp/dataset/images/valid/1ef10c7a-0ddc-4d4d-bcd9-22c73bdf6cf8.jpg: 1280x960 1 no_gesture, 12.9ms\r\n",
      "image 117/488 /kaggle/temp/dataset/images/valid/1ef3a344-1416-4591-84b2-7153ea2208e9.jpg: 1280x960 1 no_gesture, 12.9ms\r\n",
      "image 118/488 /kaggle/temp/dataset/images/valid/1ef9dab8-f03f-4473-8999-0112cc4f6aa9.jpg: 1280x960 1 no_gesture, 12.9ms\r\n",
      "image 119/488 /kaggle/temp/dataset/images/valid/1efeeffb-505c-43a3-a208-2c656c0ccc2f.jpg: 1280x960 1 call, 12.9ms\r\n",
      "image 120/488 /kaggle/temp/dataset/images/valid/1f0122e8-6d1a-47c0-825d-7a0258b431c5.jpg: 1280x960 2 no_gestures, 12.9ms\r\n",
      "image 121/488 /kaggle/temp/dataset/images/valid/1f01e097-943a-4a6f-a616-bd4987068164.jpg: 1280x960 1 call, 12.9ms\r\n",
      "image 122/488 /kaggle/temp/dataset/images/valid/1f13e052-02d5-43b2-8bf8-5bfbca2ed59f.jpg: 1280x960 1 no_gesture, 12.9ms\r\n",
      "image 123/488 /kaggle/temp/dataset/images/valid/1f189f7b-9b28-4446-8629-b8b3f01269ad.jpg: 736x1280 1 call, 11.6ms\r\n",
      "image 124/488 /kaggle/temp/dataset/images/valid/1f4d3aba-6299-43b3-a172-f6b00e5a8ba3.jpg: 1280x960 1 no_gesture, 13.0ms\r\n",
      "image 125/488 /kaggle/temp/dataset/images/valid/1f4da76d-765d-42de-86b9-33899ba04f96.jpg: 1280x960 1 no_gesture, 12.9ms\r\n",
      "image 126/488 /kaggle/temp/dataset/images/valid/1f541975-b18b-477a-b137-16631d3d7d8a.jpg: 1280x960 1 call, 13.0ms\r\n",
      "image 127/488 /kaggle/temp/dataset/images/valid/1f64a233-0523-46d5-8963-7fbf0061dfab.jpg: 736x1280 1 call, 12.1ms\r\n",
      "image 128/488 /kaggle/temp/dataset/images/valid/1f68858f-a656-4404-9484-8538d856c745.jpg: 1280x960 1 no_gesture, 13.0ms\r\n",
      "image 129/488 /kaggle/temp/dataset/images/valid/1f6b715b-05ee-4131-a17d-71a5500e74af.jpg: 1280x960 1 no_gesture, 1 call, 12.9ms\r\n",
      "image 130/488 /kaggle/temp/dataset/images/valid/1f7619b2-e8a2-4fb9-a0f3-33d41f79b56f.jpg: 832x1280 1 no_gesture, 12.2ms\r\n",
      "image 131/488 /kaggle/temp/dataset/images/valid/1f7f4c8f-c9b1-43cb-a145-b956b57ef9eb.jpg: 1280x960 2 no_gestures, 13.0ms\r\n",
      "image 132/488 /kaggle/temp/dataset/images/valid/1f88cb15-1446-488a-818d-5cca2b2f36bd.jpg: 1280x960 1 no_gesture, 13.0ms\r\n",
      "image 133/488 /kaggle/temp/dataset/images/valid/1f896b18-9671-4c28-b3c3-fedefb24a5ce.jpg: 1280x960 1 call, 12.9ms\r\n",
      "image 134/488 /kaggle/temp/dataset/images/valid/1f94b8d1-38bd-4718-86e4-ae08ba1a59dd.jpg: 1280x960 1 no_gesture, 12.9ms\r\n",
      "image 135/488 /kaggle/temp/dataset/images/valid/1fb190e3-3164-473b-8c5d-d8f8e33046b7.jpg: 1280x960 1 no_gesture, 18.2ms\r\n",
      "image 136/488 /kaggle/temp/dataset/images/valid/1fc07db1-d5dc-4c26-bfbb-53f1c09b1b7e.jpg: 1280x960 1 call, 12.9ms\r\n",
      "image 137/488 /kaggle/temp/dataset/images/valid/1fc2df50-28cf-41ab-a834-6e6c521de921.jpg: 1280x992 1 no_gesture, 14.2ms\r\n",
      "image 138/488 /kaggle/temp/dataset/images/valid/1fc94546-32e5-41d3-8f12-c3c805bd52b8.jpg: 960x1280 2 no_gestures, 13.6ms\r\n",
      "image 139/488 /kaggle/temp/dataset/images/valid/1fcb74e0-b502-420d-8345-cde8663e1a3c.jpg: 960x1280 1 no_gesture, 13.6ms\r\n",
      "image 140/488 /kaggle/temp/dataset/images/valid/1fd4d5f3-7867-4e14-947d-386b8c2ca2bb.jpg: 1280x960 2 no_gestures, 13.0ms\r\n",
      "image 141/488 /kaggle/temp/dataset/images/valid/1fde04dc-50fa-425e-9b73-a20220978934.jpg: 1280x992 1 no_gesture, 13.2ms\r\n",
      "image 142/488 /kaggle/temp/dataset/images/valid/200b7a01-e6c1-4c13-91ec-e74c7a099972.jpg: 1280x608 2 no_gestures, 12.0ms\r\n",
      "image 143/488 /kaggle/temp/dataset/images/valid/200beb36-f1d9-4b58-9c30-bd50ce90b7e0.jpg: 736x1280 2 no_gestures, 11.6ms\r\n",
      "image 144/488 /kaggle/temp/dataset/images/valid/200cc413-a542-4785-aea0-fce3cf0e1364.jpg: 1280x960 1 no_gesture, 13.0ms\r\n",
      "image 145/488 /kaggle/temp/dataset/images/valid/200dcb15-1b0d-46e9-ae54-cdfa2d59579a.jpg: 960x1280 1 no_gesture, 13.6ms\r\n",
      "image 146/488 /kaggle/temp/dataset/images/valid/200fec42-2bbe-48c9-ac8d-7cc13fab1440.jpg: 1280x960 1 no_gesture, 13.0ms\r\n",
      "image 147/488 /kaggle/temp/dataset/images/valid/2017eeeb-63b1-4a0b-abea-dfc5a7ca91d5.jpg: 1280x960 1 no_gesture, 1 call, 12.9ms\r\n",
      "image 148/488 /kaggle/temp/dataset/images/valid/20180d08-fc0a-4f52-aa30-d7cdfccfcf34.jpg: 1280x608 2 no_gestures, 9.5ms\r\n",
      "image 149/488 /kaggle/temp/dataset/images/valid/201b63ed-ce16-4892-8dbe-180a2228571e.jpg: 736x1280 2 no_gestures, 11.6ms\r\n",
      "image 150/488 /kaggle/temp/dataset/images/valid/201cfe8c-fba3-49bd-a4e6-e6228be8bbaa.jpg: 1280x608 1 no_gesture, 9.5ms\r\n",
      "image 151/488 /kaggle/temp/dataset/images/valid/2020dc2a-ce27-4c87-9359-b5e98d1455e2.jpg: 1280x992 1 no_gesture, 13.1ms\r\n",
      "image 152/488 /kaggle/temp/dataset/images/valid/202c3904-b46b-43d8-9213-e7bcff758e52.jpg: 960x1280 2 no_gestures, 13.6ms\r\n",
      "image 153/488 /kaggle/temp/dataset/images/valid/202c42ac-86be-4f34-b836-6e4540c6631a.jpg: 1280x960 3 no_gestures, 12.9ms\r\n",
      "image 154/488 /kaggle/temp/dataset/images/valid/2031cf78-b496-4e08-a83b-99434e6636fb.jpg: 960x1280 2 no_gestures, 13.6ms\r\n",
      "image 155/488 /kaggle/temp/dataset/images/valid/20362b67-50ad-4fd4-b9e4-87b3eee15f63.jpg: 1280x960 1 no_gesture, 13.0ms\r\n",
      "image 156/488 /kaggle/temp/dataset/images/valid/2037023a-8f0f-4579-81c0-079d2d17c175.jpg: 1280x992 1 no_gesture, 13.1ms\r\n",
      "image 157/488 /kaggle/temp/dataset/images/valid/203c6d9c-cb7b-484a-a819-b3c833ed5b8d.jpg: 1280x960 1 call, 13.0ms\r\n",
      "image 158/488 /kaggle/temp/dataset/images/valid/20437f09-ed12-4bc9-bbb6-b4f09990c6e8.jpg: 960x1280 2 no_gestures, 13.6ms\r\n",
      "image 159/488 /kaggle/temp/dataset/images/valid/204597f1-60ea-4a4f-8a09-bdcc1f68e08c.jpg: 1280x960 2 no_gestures, 13.0ms\r\n",
      "image 160/488 /kaggle/temp/dataset/images/valid/2049ad0e-484c-4268-956e-569f91affe06.jpg: 1280x960 2 no_gestures, 12.9ms\r\n",
      "image 161/488 /kaggle/temp/dataset/images/valid/204b0509-e90c-4932-9b64-836861aec2d1.jpg: 1280x960 2 no_gestures, 12.9ms\r\n",
      "image 162/488 /kaggle/temp/dataset/images/valid/2053390f-15b2-43f7-86bb-8a007ce2765f.jpg: 1280x960 2 no_gestures, 12.9ms\r\n",
      "image 163/488 /kaggle/temp/dataset/images/valid/205e2717-19b9-4f47-b3ee-0adf77ed7da9.jpg: 1280x960 1 no_gesture, 12.9ms\r\n",
      "image 164/488 /kaggle/temp/dataset/images/valid/2063c3ed-abee-4eb3-884d-a3e8ba5e326b.jpg: 1280x960 1 no_gesture, 13.0ms\r\n",
      "image 165/488 /kaggle/temp/dataset/images/valid/20669938-e821-456a-968f-aace7ac7cf5b.jpg: 1280x960 1 call, 12.9ms\r\n",
      "image 166/488 /kaggle/temp/dataset/images/valid/206ee231-4559-4c09-ac37-8e5d0d2d4786.jpg: 1280x960 1 no_gesture, 12.9ms\r\n",
      "image 167/488 /kaggle/temp/dataset/images/valid/2070a105-b5d5-43af-808e-65190fc3012a.jpg: 1280x960 1 no_gesture, 12.9ms\r\n",
      "image 168/488 /kaggle/temp/dataset/images/valid/207c97e9-e377-47df-90b5-3d5b07350b19.jpg: 1280x992 1 no_gesture, 13.2ms\r\n",
      "image 169/488 /kaggle/temp/dataset/images/valid/2080b107-ddc7-4f11-8ca4-011d92332917.jpg: 1280x960 1 no_gesture, 13.0ms\r\n",
      "image 170/488 /kaggle/temp/dataset/images/valid/208153d4-af2e-4814-bae8-824f83f54b87.jpg: 1280x960 1 no_gesture, 12.9ms\r\n",
      "image 171/488 /kaggle/temp/dataset/images/valid/2081ec0c-4c6d-4609-a0b7-59f8934753e6.jpg: 1280x960 2 no_gestures, 12.9ms\r\n",
      "image 172/488 /kaggle/temp/dataset/images/valid/20831bc8-db64-4a70-bea7-aa3fd82fb4a6.jpg: 1280x960 1 no_gesture, 12.9ms\r\n",
      "image 173/488 /kaggle/temp/dataset/images/valid/2086257e-81a4-42ea-99e8-283c61b6af05.jpg: 1280x960 2 no_gestures, 13.0ms\r\n",
      "image 174/488 /kaggle/temp/dataset/images/valid/2086ab86-7cdb-4947-8ff1-bc331a98a885.jpg: 1280x960 1 no_gesture, 12.9ms\r\n",
      "image 175/488 /kaggle/temp/dataset/images/valid/2087d710-e7a9-4443-9ebe-1021578e6222.jpg: 960x1280 1 no_gesture, 13.6ms\r\n",
      "image 176/488 /kaggle/temp/dataset/images/valid/208ba9ba-a9bb-4a79-994c-a5f0d8c9ce85.jpg: 1280x960 1 no_gesture, 13.0ms\r\n",
      "image 177/488 /kaggle/temp/dataset/images/valid/209c653f-5126-4a50-9211-68bf3b7fbe8f.jpg: 1280x736 1 no_gesture, 11.7ms\r\n",
      "image 178/488 /kaggle/temp/dataset/images/valid/209d1e55-62a7-44eb-aa21-c8ee0cde00d0.jpg: 1280x992 1 no_gesture, 13.2ms\r\n",
      "image 179/488 /kaggle/temp/dataset/images/valid/209eb2dd-108d-4fe5-97f6-6dcf5dfbacf2.jpg: 960x1280 2 no_gestures, 13.6ms\r\n",
      "image 180/488 /kaggle/temp/dataset/images/valid/20a423df-c971-4eb0-8c4d-92e698277479.jpg: 1280x960 1 no_gesture, 13.1ms\r\n",
      "image 181/488 /kaggle/temp/dataset/images/valid/20a468ce-97ef-4490-98a0-2cbfef41ca07.jpg: 1280x960 1 no_gesture, 12.9ms\r\n",
      "image 182/488 /kaggle/temp/dataset/images/valid/20ae805a-5316-41f0-a3cb-4afe01d47a67.jpg: 1280x960 1 call, 12.9ms\r\n",
      "image 183/488 /kaggle/temp/dataset/images/valid/20b13dbf-9eff-432b-91c6-9445867b4acb.jpg: 1280x960 3 no_gestures, 12.9ms\r\n",
      "image 184/488 /kaggle/temp/dataset/images/valid/20b3fdf5-6016-4aa8-b916-94a11313ceca.jpg: 1280x960 1 no_gesture, 1 call, 12.9ms\r\n",
      "image 185/488 /kaggle/temp/dataset/images/valid/20bac430-80a2-499e-b5eb-dba588bed6d3.jpg: 1280x960 1 no_gesture, 12.9ms\r\n",
      "image 186/488 /kaggle/temp/dataset/images/valid/20bdc9c5-a7f6-4419-8d86-03bc765bc325.jpg: 1280x736 1 no_gesture, 11.2ms\r\n",
      "image 187/488 /kaggle/temp/dataset/images/valid/20c3d313-fb2d-437c-8344-5777212dd028.jpg: 1280x960 1 no_gesture, 12.9ms\r\n",
      "image 188/488 /kaggle/temp/dataset/images/valid/20c556dc-df06-4265-b463-5680f2e51409.jpg: 1280x960 1 call, 12.9ms\r\n",
      "image 189/488 /kaggle/temp/dataset/images/valid/20c82067-a9a6-4f43-a1c5-d1dff32c1d56.jpg: 1280x960 1 no_gesture, 13.0ms\r\n",
      "image 190/488 /kaggle/temp/dataset/images/valid/20cc9d5c-b76e-426c-991e-3b84d3424ae4.jpg: 1280x960 1 no_gesture, 13.0ms\r\n",
      "image 191/488 /kaggle/temp/dataset/images/valid/20d6f797-e575-4ab6-89a5-7746b0c6cea2.jpg: 1280x960 (no detections), 12.9ms\r\n",
      "image 192/488 /kaggle/temp/dataset/images/valid/20d75217-91dc-4978-b3ae-15bb12435957.jpg: 1280x960 1 call, 12.9ms\r\n",
      "image 193/488 /kaggle/temp/dataset/images/valid/20d925c2-16ea-4dfe-a92e-50575ba4c519.jpg: 736x1280 2 no_gestures, 11.6ms\r\n",
      "image 194/488 /kaggle/temp/dataset/images/valid/20de03ca-7d71-4f51-ba07-9cd45004dc6b.jpg: 1280x960 1 no_gesture, 12.9ms\r\n",
      "image 195/488 /kaggle/temp/dataset/images/valid/20e09f10-aefc-47dd-87dd-23f4c23b58a0.jpg: 1280x960 1 no_gesture, 12.9ms\r\n",
      "image 196/488 /kaggle/temp/dataset/images/valid/20e38b21-983c-42e5-8793-8e7e4a4ee989.jpg: 960x1280 2 no_gestures, 13.6ms\r\n",
      "image 197/488 /kaggle/temp/dataset/images/valid/20f6415a-8b92-408c-a02e-d3e1e460f486.jpg: 1280x960 1 no_gesture, 12.9ms\r\n",
      "image 198/488 /kaggle/temp/dataset/images/valid/20f68d16-f0b0-4f52-9db6-231a026d717b.jpg: 960x1280 1 no_gesture, 13.7ms\r\n",
      "image 199/488 /kaggle/temp/dataset/images/valid/20f88610-96a1-4fd7-9035-6f0a42721197.jpg: 960x1280 2 no_gestures, 13.6ms\r\n",
      "image 200/488 /kaggle/temp/dataset/images/valid/20fa8f05-ec50-4f3a-b400-8e717d26ed63.jpg: 1280x960 1 no_gesture, 13.0ms\r\n",
      "image 201/488 /kaggle/temp/dataset/images/valid/20ffd242-cc03-472b-ba7f-0cdd143666a5.jpg: 1280x992 1 no_gesture, 13.2ms\r\n",
      "image 202/488 /kaggle/temp/dataset/images/valid/2102222a-44e3-4cd6-8fab-6f7d8b79e87e.jpg: 1280x608 2 no_gestures, 9.5ms\r\n",
      "image 203/488 /kaggle/temp/dataset/images/valid/2105c25a-1d54-4fbc-aa6a-346bcdeb4e66.jpg: 1280x608 2 no_gestures, 9.4ms\r\n",
      "image 204/488 /kaggle/temp/dataset/images/valid/2108aec6-a9da-43e3-a130-feda5ed3126b.jpg: 1280x960 2 no_gestures, 15.7ms\r\n",
      "image 205/488 /kaggle/temp/dataset/images/valid/210bb5e4-b16d-4c94-97ad-dd9537dbe0a3.jpg: 1280x960 1 no_gesture, 12.9ms\r\n",
      "image 206/488 /kaggle/temp/dataset/images/valid/210efb33-5af6-4941-8106-6857f65cfef7.jpg: 960x1280 1 no_gesture, 13.6ms\r\n",
      "image 207/488 /kaggle/temp/dataset/images/valid/2116015f-5c13-4ce3-a7d2-f054c3d1e6d3.jpg: 1280x960 1 no_gesture, 13.0ms\r\n",
      "image 208/488 /kaggle/temp/dataset/images/valid/211ba00a-2559-48f6-bc55-b881ba111806.jpg: 1280x960 1 no_gesture, 12.9ms\r\n",
      "image 209/488 /kaggle/temp/dataset/images/valid/212ef307-d860-4754-9d59-de33be70da40.jpg: 1280x960 1 no_gesture, 13.1ms\r\n",
      "image 210/488 /kaggle/temp/dataset/images/valid/2133cf8b-8a3b-4e75-bdee-52f60e977660.jpg: 1280x960 1 no_gesture, 12.9ms\r\n",
      "image 211/488 /kaggle/temp/dataset/images/valid/214d5825-d14b-401e-b4e5-86a280a20a87.jpg: 1280x960 1 call, 12.9ms\r\n",
      "image 212/488 /kaggle/temp/dataset/images/valid/214d8d17-6180-4be7-9035-1a53a4068b38.jpg: 1280x960 1 no_gesture, 12.9ms\r\n",
      "image 213/488 /kaggle/temp/dataset/images/valid/215cbeb0-df76-4a81-a08b-33417be9312e.jpg: 1280x960 1 call, 12.9ms\r\n",
      "image 214/488 /kaggle/temp/dataset/images/valid/216511f5-b025-4d26-bfbc-c779f30e5205.jpg: 1280x960 1 call, 12.9ms\r\n",
      "image 215/488 /kaggle/temp/dataset/images/valid/216914a9-c7a2-43d8-af93-7ce7382062f3.jpg: 1280x960 2 no_gestures, 12.9ms\r\n",
      "image 216/488 /kaggle/temp/dataset/images/valid/2169bf59-923a-453d-809a-d3368e049838.jpg: 1280x960 1 no_gesture, 1 call, 13.0ms\r\n",
      "image 217/488 /kaggle/temp/dataset/images/valid/217febe0-ff31-40fe-9e77-f8c10761e9ef.jpg: 1280x960 1 no_gesture, 13.0ms\r\n",
      "image 218/488 /kaggle/temp/dataset/images/valid/21842874-ef64-41cc-9e67-47ed7d4fa00b.jpg: 1280x960 1 call, 13.1ms\r\n",
      "image 219/488 /kaggle/temp/dataset/images/valid/2187b4b2-5c33-4c32-9242-565ae8777444.jpg: 1280x960 1 no_gesture, 13.0ms\r\n",
      "image 220/488 /kaggle/temp/dataset/images/valid/218b0087-19e2-4d99-90a4-18fcfeea03ba.jpg: 736x1280 1 call, 11.6ms\r\n",
      "image 221/488 /kaggle/temp/dataset/images/valid/218daee1-9f2c-47ce-a396-8a6a8f0a1b23.jpg: 1280x960 1 no_gesture, 12.9ms\r\n",
      "image 222/488 /kaggle/temp/dataset/images/valid/218f79e7-04c0-4076-8dfe-ad3a5dee1e06.jpg: 1280x960 1 call, 13.0ms\r\n",
      "image 223/488 /kaggle/temp/dataset/images/valid/219be011-bbb9-4c4b-9666-1cd6ccd76fbf.jpg: 1280x960 1 no_gesture, 12.9ms\r\n",
      "image 224/488 /kaggle/temp/dataset/images/valid/219d6678-4cd4-413e-bf60-5bd89e993d4d.jpg: 1280x960 1 no_gesture, 1 call, 12.9ms\r\n",
      "image 225/488 /kaggle/temp/dataset/images/valid/219f7664-fd2c-4868-97c0-815d1a85fa99.jpg: 1280x960 1 call, 12.9ms\r\n",
      "image 226/488 /kaggle/temp/dataset/images/valid/21ace609-4112-4053-bbf9-9b5b678abf85.jpg: 864x1280 1 call, 14.6ms\r\n",
      "image 227/488 /kaggle/temp/dataset/images/valid/21afd621-7fc7-49e0-a274-8868aded285d.jpg: 1280x960 1 no_gesture, 12.9ms\r\n",
      "image 228/488 /kaggle/temp/dataset/images/valid/21b61513-0de1-44a1-aada-45aaef0690eb.jpg: 1280x960 2 no_gestures, 12.9ms\r\n",
      "image 229/488 /kaggle/temp/dataset/images/valid/21b895bb-87be-4297-86b0-7ffbd3a3b8fb.jpg: 1280x960 1 call, 12.9ms\r\n",
      "image 230/488 /kaggle/temp/dataset/images/valid/21bbbe51-c413-4dc9-ba18-12fb7d47713f.jpg: 960x1280 1 no_gesture, 13.6ms\r\n",
      "image 231/488 /kaggle/temp/dataset/images/valid/21cf810f-6ed9-4770-a9ca-135b26b70dfc.jpg: 1280x960 2 no_gestures, 13.0ms\r\n",
      "image 232/488 /kaggle/temp/dataset/images/valid/21d7e85f-51ce-4cad-b20b-ffb5d481798a.jpg: 1280x960 1 call, 12.9ms\r\n",
      "image 233/488 /kaggle/temp/dataset/images/valid/21dc9343-c3d0-42f0-9e18-408edbea2752.jpg: 960x1280 1 no_gesture, 13.6ms\r\n",
      "image 234/488 /kaggle/temp/dataset/images/valid/21f21a08-67da-4010-8615-6d5535aa4c1f.jpg: 1280x960 1 no_gesture, 13.0ms\r\n",
      "image 235/488 /kaggle/temp/dataset/images/valid/21f63089-8277-44d3-93e2-1b29f6feb0aa.jpg: 1280x992 1 call, 13.2ms\r\n",
      "image 236/488 /kaggle/temp/dataset/images/valid/21f9f758-878e-47e3-a8f7-256080f62769.jpg: 1280x960 1 no_gesture, 12.9ms\r\n",
      "image 237/488 /kaggle/temp/dataset/images/valid/2210e73a-e906-4161-9a98-3dd23f7d24de.jpg: 1280x960 1 no_gesture, 12.9ms\r\n",
      "image 238/488 /kaggle/temp/dataset/images/valid/2212a3e4-cfd9-43c7-9aa0-fb81dd3d9063.jpg: 1280x960 2 no_gestures, 1 call, 12.9ms\r\n",
      "image 239/488 /kaggle/temp/dataset/images/valid/222413e9-fe4a-4745-aca2-65bc11cf4ce0.jpg: 1280x960 1 no_gesture, 12.9ms\r\n",
      "image 240/488 /kaggle/temp/dataset/images/valid/223ceaab-1fb8-499e-b931-3056ef5e2ae3.jpg: 1280x960 1 no_gesture, 13.0ms\r\n",
      "image 241/488 /kaggle/temp/dataset/images/valid/22401143-e66c-43bc-9bbc-b091e2e1616e.jpg: 1280x736 1 call, 11.2ms\r\n",
      "image 242/488 /kaggle/temp/dataset/images/valid/224b5357-e3df-4240-97b7-ff127e8609d7.jpg: 1280x960 1 call, 13.1ms\r\n",
      "image 243/488 /kaggle/temp/dataset/images/valid/224dd26f-8d80-495d-827e-850bdce22555.jpg: 1280x736 1 call, 11.2ms\r\n",
      "image 244/488 /kaggle/temp/dataset/images/valid/22505611-1bf4-4361-a8da-18fca3e0f062.jpg: 1280x960 1 no_gesture, 12.9ms\r\n",
      "image 245/488 /kaggle/temp/dataset/images/valid/22505aa9-b289-49c3-ac6e-64e836896c11.jpg: 1280x960 1 call, 12.9ms\r\n",
      "image 246/488 /kaggle/temp/dataset/images/valid/22521467-7016-48bc-879e-8cd0f8baf361.jpg: 1280x960 2 no_gestures, 12.9ms\r\n",
      "image 247/488 /kaggle/temp/dataset/images/valid/2253d2d9-74e2-494b-8119-6bf7de97b48e.jpg: 1280x960 2 no_gestures, 12.9ms\r\n",
      "image 248/488 /kaggle/temp/dataset/images/valid/2254c4b9-ed8d-4654-9577-cab0af4e7aa4.jpg: 1280x960 2 no_gestures, 13.0ms\r\n",
      "image 249/488 /kaggle/temp/dataset/images/valid/225a6283-132d-4748-bc75-fbd5239c76a4.jpg: 1280x960 1 no_gesture, 1 call, 12.9ms\r\n",
      "image 250/488 /kaggle/temp/dataset/images/valid/22648a88-2747-42c3-a84d-0da2a663fd74.jpg: 1280x960 1 no_gesture, 12.9ms\r\n",
      "image 251/488 /kaggle/temp/dataset/images/valid/226b8f98-38c3-44c4-8333-3f777b76906c.jpg: 1280x960 1 call, 12.9ms\r\n",
      "image 252/488 /kaggle/temp/dataset/images/valid/226d099f-c19f-4703-b914-031041c5eba0.jpg: 1280x736 1 call, 11.2ms\r\n",
      "image 253/488 /kaggle/temp/dataset/images/valid/226d2790-c851-4e3f-8292-6a558668f91a.jpg: 1280x608 2 no_gestures, 9.5ms\r\n",
      "image 254/488 /kaggle/temp/dataset/images/valid/22749d35-4e83-4f40-9107-6765cb71034d.jpg: 1280x992 1 no_gesture, 13.2ms\r\n",
      "image 255/488 /kaggle/temp/dataset/images/valid/2276264f-7c14-4969-8a0d-7a9afc90af15.jpg: 960x1280 1 no_gesture, 13.6ms\r\n",
      "image 256/488 /kaggle/temp/dataset/images/valid/22801926-ca23-43c8-84d5-503283e4ed2c.jpg: 1280x960 2 no_gestures, 13.0ms\r\n",
      "image 257/488 /kaggle/temp/dataset/images/valid/22872609-fae5-40c6-92c7-3bf642815a89.jpg: 1280x992 1 no_gesture, 13.3ms\r\n",
      "image 258/488 /kaggle/temp/dataset/images/valid/228cf246-a7af-4c96-a1f4-625eaf755f13.jpg: 736x1280 1 no_gesture, 11.6ms\r\n",
      "image 259/488 /kaggle/temp/dataset/images/valid/228efd24-e33c-427a-b8e7-460cba2ed710.jpg: 960x1280 2 no_gestures, 13.6ms\r\n",
      "image 260/488 /kaggle/temp/dataset/images/valid/22946824-5628-4688-a86a-d1fa98593dd3.jpg: 960x1280 2 no_gestures, 13.7ms\r\n",
      "image 261/488 /kaggle/temp/dataset/images/valid/229abf6a-11b2-4874-b5ea-619dcdaf958a.jpg: 1280x608 1 no_gesture, 1 call, 9.5ms\r\n",
      "image 262/488 /kaggle/temp/dataset/images/valid/229e24ed-651b-411f-b147-a5c05799b8f2.jpg: 1280x960 1 no_gesture, 13.1ms\r\n",
      "image 263/488 /kaggle/temp/dataset/images/valid/22a11dd4-a514-43f8-8b0f-4c89494544be.jpg: 1280x960 1 no_gesture, 12.9ms\r\n",
      "image 264/488 /kaggle/temp/dataset/images/valid/22a48e49-f811-4db2-a36d-f8d9de452cac.jpg: 736x1280 1 no_gesture, 11.6ms\r\n",
      "image 265/488 /kaggle/temp/dataset/images/valid/22aa374a-733a-4630-8b7e-9d613a599674.jpg: 1280x960 1 no_gesture, 12.9ms\r\n",
      "image 266/488 /kaggle/temp/dataset/images/valid/22ae98d3-be98-4762-86a2-3a72a89a6296.jpg: 1280x960 1 call, 13.0ms\r\n",
      "image 267/488 /kaggle/temp/dataset/images/valid/22b0f5d7-e6b9-424e-a4ce-21bb69ef96f9.jpg: 960x1280 2 no_gestures, 13.7ms\r\n",
      "image 268/488 /kaggle/temp/dataset/images/valid/22b54b2b-fff0-40d9-bf70-5d12939f97fc.jpg: 1280x960 1 no_gesture, 1 call, 12.9ms\r\n",
      "image 269/488 /kaggle/temp/dataset/images/valid/22b77237-76f1-409a-9193-3dd1fbec705d.jpg: 1280x736 1 no_gesture, 11.2ms\r\n",
      "image 270/488 /kaggle/temp/dataset/images/valid/22c1c818-9964-414f-9ef4-82a7ad70ead5.jpg: 1280x960 1 no_gesture, 13.0ms\r\n",
      "image 271/488 /kaggle/temp/dataset/images/valid/22c490ed-7dca-4418-ab14-a7d552e3685e.jpg: 1280x960 1 call, 13.0ms\r\n",
      "image 272/488 /kaggle/temp/dataset/images/valid/22c5ccc6-258e-4c86-9b80-edd2c2a7d4e7.jpg: 1280x960 2 no_gestures, 12.9ms\r\n",
      "image 273/488 /kaggle/temp/dataset/images/valid/22cea167-032c-4317-b729-431cff66867f.jpg: 1280x960 1 call, 13.0ms\r\n",
      "image 274/488 /kaggle/temp/dataset/images/valid/22d40704-d047-4beb-a41c-e3950e63ed8f.jpg: 1280x960 1 no_gesture, 12.9ms\r\n",
      "image 275/488 /kaggle/temp/dataset/images/valid/22d4859e-b628-4922-8d3e-3d9ffdaff07e.jpg: 1280x960 2 no_gestures, 12.9ms\r\n",
      "image 276/488 /kaggle/temp/dataset/images/valid/22de3c0d-c4d0-44a4-9080-d453dc535b05.jpg: 1280x960 1 no_gesture, 12.9ms\r\n",
      "image 277/488 /kaggle/temp/dataset/images/valid/22e2d467-c96b-408c-84bf-3e557199b4cb.jpg: 1280x960 2 no_gestures, 12.9ms\r\n",
      "image 278/488 /kaggle/temp/dataset/images/valid/22e93aa4-cb87-460b-bd6f-33b27a95eef0.jpg: 1280x960 1 no_gesture, 1 call, 12.9ms\r\n",
      "image 279/488 /kaggle/temp/dataset/images/valid/22f0c7bd-8720-40f4-8626-11fced738204.jpg: 1280x960 1 no_gesture, 1 call, 12.9ms\r\n",
      "image 280/488 /kaggle/temp/dataset/images/valid/22f3623d-6ec3-48b9-b85f-4d42b628c77d.jpg: 736x1280 1 call, 18.3ms\r\n",
      "image 281/488 /kaggle/temp/dataset/images/valid/23044027-a873-40e6-a664-82e99ab92daf.jpg: 1280x960 1 no_gesture, 13.0ms\r\n",
      "image 282/488 /kaggle/temp/dataset/images/valid/23058edc-2519-4e48-a0e4-d159a37a4d16.jpg: 1280x960 1 no_gesture, 12.9ms\r\n",
      "image 283/488 /kaggle/temp/dataset/images/valid/23084c81-e7e6-4f76-8385-c882b39f3a36.jpg: 1280x960 1 no_gesture, 1 call, 13.0ms\r\n",
      "image 284/488 /kaggle/temp/dataset/images/valid/230b3d96-d6a8-4c99-a478-eeb2a93cd4e0.jpg: 736x1280 1 no_gesture, 11.6ms\r\n",
      "image 285/488 /kaggle/temp/dataset/images/valid/23156bd5-052e-4c27-919e-8d50aa448dee.jpg: 960x1280 2 no_gestures, 13.7ms\r\n",
      "image 286/488 /kaggle/temp/dataset/images/valid/231767ab-4453-45e9-b178-309d029abac4.jpg: 1280x960 1 no_gesture, 1 call, 12.9ms\r\n",
      "image 287/488 /kaggle/temp/dataset/images/valid/23181429-b61e-4ca0-87e6-090aa500feeb.jpg: 1280x960 1 call, 12.9ms\r\n",
      "image 288/488 /kaggle/temp/dataset/images/valid/2319ded6-bbd4-45b8-a0f1-3cce70f375a0.jpg: 1280x960 1 no_gesture, 12.9ms\r\n",
      "image 289/488 /kaggle/temp/dataset/images/valid/231de2d7-f406-44fd-8c17-a3c8854da40b.jpg: 1280x960 1 no_gesture, 12.9ms\r\n",
      "image 290/488 /kaggle/temp/dataset/images/valid/231ea37d-c9eb-4080-9afb-d702009f7cc8.jpg: 1280x992 1 no_gesture, 13.2ms\r\n",
      "image 291/488 /kaggle/temp/dataset/images/valid/2326a4e1-2e45-468e-a7c5-e8db2bab90fc.jpg: 1280x960 1 call, 13.8ms\r\n",
      "image 292/488 /kaggle/temp/dataset/images/valid/23357d2b-5fd1-4675-b33a-5714d84325cb.jpg: 1280x960 1 no_gesture, 12.9ms\r\n",
      "image 293/488 /kaggle/temp/dataset/images/valid/23366307-70d3-456e-8f92-ab2ff452dca2.jpg: 1280x960 1 no_gesture, 13.0ms\r\n",
      "image 294/488 /kaggle/temp/dataset/images/valid/233e3816-65f4-42c4-a6fa-10231b87e24d.jpg: 1280x960 1 call, 12.9ms\r\n",
      "image 295/488 /kaggle/temp/dataset/images/valid/23470c3c-ccc8-4779-b4a2-9ab5b0d67540.jpg: 1280x960 1 no_gesture, 12.9ms\r\n",
      "image 296/488 /kaggle/temp/dataset/images/valid/234c194f-2a30-4f79-a744-1863951df4f7.jpg: 1280x960 1 no_gesture, 1 call, 12.9ms\r\n",
      "image 297/488 /kaggle/temp/dataset/images/valid/2357785c-6135-4bb5-9dfa-5332d2f30693.jpg: 1280x608 2 no_gestures, 9.5ms\r\n",
      "image 298/488 /kaggle/temp/dataset/images/valid/235c7bf1-772c-4867-9ecf-6f696ccc228f.jpg: 1280x960 1 no_gesture, 13.0ms\r\n",
      "image 299/488 /kaggle/temp/dataset/images/valid/23631959-8897-41c9-a75d-ce2f2e5e17ec.jpg: 1280x960 1 call, 12.9ms\r\n",
      "image 300/488 /kaggle/temp/dataset/images/valid/236e06db-e940-437e-a40d-02aaed871609.jpg: 1280x960 1 no_gesture, 1 call, 12.9ms\r\n",
      "image 301/488 /kaggle/temp/dataset/images/valid/23748305-08fd-47b6-bb12-a4b997fb077d.jpg: 1280x960 1 call, 13.0ms\r\n",
      "image 302/488 /kaggle/temp/dataset/images/valid/237731ba-0529-4ccd-8902-4f5b63f10d01.jpg: 1280x608 1 call, 9.5ms\r\n",
      "image 303/488 /kaggle/temp/dataset/images/valid/23800501-edb6-4d99-a91e-5bef0f4f35f1.jpg: 1280x960 1 no_gesture, 13.0ms\r\n",
      "image 304/488 /kaggle/temp/dataset/images/valid/23876309-5b54-4ec0-a29d-c9251ec64b65.jpg: 1280x960 1 call, 12.9ms\r\n",
      "image 305/488 /kaggle/temp/dataset/images/valid/23921401-cf65-4c51-a61a-5fa375547e7a.jpg: 960x1280 2 no_gestures, 13.6ms\r\n",
      "image 306/488 /kaggle/temp/dataset/images/valid/239c44b0-b774-4171-913e-f0a6a7f77f60.jpg: 1280x608 1 no_gesture, 9.5ms\r\n",
      "image 307/488 /kaggle/temp/dataset/images/valid/23a72044-eae0-46e6-bb98-e4aa71e12eda.jpg: 1280x576 1 call, 9.3ms\r\n",
      "image 308/488 /kaggle/temp/dataset/images/valid/23ad1882-bd06-4ab4-a9e7-90c16019bf31.jpg: 960x1280 1 no_gesture, 1 call, 13.6ms\r\n",
      "image 309/488 /kaggle/temp/dataset/images/valid/23c96f41-6598-4942-be81-e5edd892b1fe.jpg: 1280x960 2 no_gestures, 13.0ms\r\n",
      "image 310/488 /kaggle/temp/dataset/images/valid/23ca77eb-b4eb-4172-9247-4f34ab396260.jpg: 960x1280 1 call, 13.6ms\r\n",
      "image 311/488 /kaggle/temp/dataset/images/valid/23cb38b4-3ff5-42bc-823a-eb5a31f4b723.jpg: 960x1280 1 no_gesture, 13.5ms\r\n",
      "image 312/488 /kaggle/temp/dataset/images/valid/23ce349b-890c-4056-adb1-a201f0a8c3df.jpg: 1280x960 1 no_gesture, 1 call, 12.9ms\r\n",
      "image 313/488 /kaggle/temp/dataset/images/valid/23d0bd0b-83e9-4797-97a6-02101949c8b2.jpg: 960x1280 1 call, 13.6ms\r\n",
      "image 314/488 /kaggle/temp/dataset/images/valid/23d3ec7a-5336-4d06-ad2e-1fb47b4ee9da.jpg: 1280x960 1 no_gesture, 13.0ms\r\n",
      "image 315/488 /kaggle/temp/dataset/images/valid/23d4039a-6016-4866-b309-b827efa855cd.jpg: 1280x736 1 no_gesture, 1 call, 11.2ms\r\n",
      "image 316/488 /kaggle/temp/dataset/images/valid/23e2ff82-cba2-4a12-b2f2-1c824992248e.jpg: 1280x960 1 no_gesture, 13.0ms\r\n",
      "image 317/488 /kaggle/temp/dataset/images/valid/23e8af2b-be08-438e-bf32-8efcde06f362.jpg: 1280x960 1 no_gesture, 12.9ms\r\n",
      "image 318/488 /kaggle/temp/dataset/images/valid/23ebaf90-21aa-4817-a967-9eae38704477.jpg: 1280x960 1 call, 12.9ms\r\n",
      "image 319/488 /kaggle/temp/dataset/images/valid/23eec4eb-bcbe-43bf-b932-6dbaf2b55ea5.jpg: 1280x960 1 no_gesture, 1 call, 13.0ms\r\n",
      "image 320/488 /kaggle/temp/dataset/images/valid/23f15c04-1222-4b5b-a550-cd2690ecdf55.jpg: 1280x640 2 no_gestures, 11.6ms\r\n",
      "image 321/488 /kaggle/temp/dataset/images/valid/23f3164c-9e47-47d2-ad1a-741daae28d41.jpg: 1280x960 2 no_gestures, 13.1ms\r\n",
      "image 322/488 /kaggle/temp/dataset/images/valid/240179b8-7a32-4173-a912-245327a3a931.jpg: 1280x960 1 no_gesture, 1 call, 12.9ms\r\n",
      "image 323/488 /kaggle/temp/dataset/images/valid/24034106-7489-4ab0-ac87-0ce9a6354372.jpg: 1280x960 1 no_gesture, 13.1ms\r\n",
      "image 324/488 /kaggle/temp/dataset/images/valid/240eb09f-8eae-46fe-ae45-83046d2a8aee.jpg: 1280x960 1 no_gesture, 12.9ms\r\n",
      "image 325/488 /kaggle/temp/dataset/images/valid/2415498d-3c8d-4aba-bcb3-9d4759dfbf77.jpg: 1280x960 2 no_gestures, 13.0ms\r\n",
      "image 326/488 /kaggle/temp/dataset/images/valid/242f44ac-6710-4041-97dc-136763806e8f.jpg: 960x1280 1 no_gesture, 13.7ms\r\n",
      "image 327/488 /kaggle/temp/dataset/images/valid/24377a9c-60fb-4f14-9279-98cb6e39e4fa.jpg: 1280x960 1 no_gesture, 13.0ms\r\n",
      "image 328/488 /kaggle/temp/dataset/images/valid/24401fab-4a6e-4bac-ab20-6fd072d36c8d.jpg: 1280x960 1 call, 12.9ms\r\n",
      "image 329/488 /kaggle/temp/dataset/images/valid/2448507c-1ac0-4e76-b0a0-7cd25b28ea85.jpg: 1280x736 1 no_gesture, 11.2ms\r\n",
      "image 330/488 /kaggle/temp/dataset/images/valid/24587a1f-12cb-4f9d-8f09-d5eb4a0143a7.jpg: 1280x960 1 no_gesture, 12.9ms\r\n",
      "image 331/488 /kaggle/temp/dataset/images/valid/245ece88-ef49-4988-ac7a-80f529f06363.jpg: 1280x960 1 no_gesture, 1 call, 12.9ms\r\n",
      "image 332/488 /kaggle/temp/dataset/images/valid/2460cdc8-c94b-465a-aa7a-aa2f7a792448.jpg: 1280x960 1 no_gesture, 1 call, 12.9ms\r\n",
      "image 333/488 /kaggle/temp/dataset/images/valid/24626f59-0e79-4c52-9c40-5408ca5c5ad7.jpg: 1280x960 1 no_gesture, 12.9ms\r\n",
      "image 334/488 /kaggle/temp/dataset/images/valid/2466ab1b-ef93-4350-830e-7ea05738990c.jpg: 1280x960 1 no_gesture, 12.9ms\r\n",
      "image 335/488 /kaggle/temp/dataset/images/valid/2473be50-3998-4899-b1bb-cc799f4ad142.jpg: 1280x960 1 call, 12.9ms\r\n",
      "image 336/488 /kaggle/temp/dataset/images/valid/2475d209-bcbc-4495-9423-e35b99946017.jpg: 960x1280 1 call, 13.6ms\r\n",
      "image 337/488 /kaggle/temp/dataset/images/valid/2483977c-e832-4c9a-a619-fe5293aaab04.jpg: 960x1280 1 call, 13.5ms\r\n",
      "image 338/488 /kaggle/temp/dataset/images/valid/2491352d-dea1-4eaa-9960-25ff9cb13fb3.jpg: 1280x960 1 call, 13.0ms\r\n",
      "image 339/488 /kaggle/temp/dataset/images/valid/249321ab-1135-4fc8-bbe4-e58cb015509f.jpg: 1280x960 1 call, 12.9ms\r\n",
      "image 340/488 /kaggle/temp/dataset/images/valid/2494a35e-5851-41e2-9134-1704338648e8.jpg: 1280x960 1 no_gesture, 12.9ms\r\n",
      "image 341/488 /kaggle/temp/dataset/images/valid/24990a42-c876-4071-aab8-2561c0f7a278.jpg: 1280x960 1 no_gesture, 12.9ms\r\n",
      "image 342/488 /kaggle/temp/dataset/images/valid/249f1c5d-aba3-4028-be6b-554a7ad24851.jpg: 1280x960 1 call, 12.9ms\r\n",
      "image 343/488 /kaggle/temp/dataset/images/valid/24aa57ed-eaf6-4ea6-91c6-651c2bbdd29d.jpg: 1280x960 1 no_gesture, 1 call, 13.0ms\r\n",
      "image 344/488 /kaggle/temp/dataset/images/valid/24c6c581-97e1-49c2-b88f-0504a426ec39.jpg: 1280x576 2 no_gestures, 9.3ms\r\n",
      "image 345/488 /kaggle/temp/dataset/images/valid/24d42501-18fb-4d0b-9c0e-63145db36a48.jpg: 1280x736 1 no_gesture, 11.2ms\r\n",
      "image 346/488 /kaggle/temp/dataset/images/valid/24db3c41-6145-4887-8f03-266fd90966cd.jpg: 1280x960 2 no_gestures, 13.0ms\r\n",
      "image 347/488 /kaggle/temp/dataset/images/valid/24e71a48-b962-405b-9d2f-93f3f59fa950.jpg: 1280x960 1 call, 13.0ms\r\n",
      "image 348/488 /kaggle/temp/dataset/images/valid/24ea6c4c-3e9f-44e1-93f1-83b1d3827e9d.jpg: 1280x960 1 call, 12.9ms\r\n",
      "image 349/488 /kaggle/temp/dataset/images/valid/24f26d0e-330f-4b63-91b8-465ad60585f1.jpg: 736x1280 1 no_gesture, 11.6ms\r\n",
      "image 350/488 /kaggle/temp/dataset/images/valid/24fd68d8-e7ce-499e-8adc-82aebe9786c1.jpg: 1280x1280 1 call, 16.1ms\r\n",
      "image 351/488 /kaggle/temp/dataset/images/valid/24fdae6a-511f-4205-8cc9-9c989d2e319e.jpg: 1280x960 1 call, 13.0ms\r\n",
      "image 352/488 /kaggle/temp/dataset/images/valid/24fff6b0-c6c3-4453-8568-387ef05bfd97.jpg: 1280x960 1 no_gesture, 13.1ms\r\n",
      "image 353/488 /kaggle/temp/dataset/images/valid/25032665-4837-4f04-b5f0-e3facc908337.jpg: 1280x960 1 no_gesture, 12.9ms\r\n",
      "image 354/488 /kaggle/temp/dataset/images/valid/2503995a-4b75-4177-992d-5499ebd4401c.jpg: 1280x960 2 no_gestures, 13.1ms\r\n",
      "image 355/488 /kaggle/temp/dataset/images/valid/25048ed7-6230-4399-b909-c694995daaa4.jpg: 1280x960 1 no_gesture, 12.9ms\r\n",
      "image 356/488 /kaggle/temp/dataset/images/valid/2509eeff-ba4e-44e1-8967-2db17815a269.jpg: 1280x960 1 no_gesture, 12.9ms\r\n",
      "image 357/488 /kaggle/temp/dataset/images/valid/25157171-66e1-4cdf-b7a2-4b1d457bfa70.jpg: 1280x960 1 no_gesture, 19.8ms\r\n",
      "image 358/488 /kaggle/temp/dataset/images/valid/2515cb00-6c17-4a81-bfa4-dfdb726dec27.jpg: 736x1280 1 call, 14.0ms\r\n",
      "image 359/488 /kaggle/temp/dataset/images/valid/251bb8c5-3445-4624-aace-9372cfb93ce5.jpg: 1280x960 1 call, 13.9ms\r\n",
      "image 360/488 /kaggle/temp/dataset/images/valid/2522c8ac-164d-4def-bb9e-fe12318461e0.jpg: 1280x960 1 no_gesture, 45.7ms\r\n",
      "image 361/488 /kaggle/temp/dataset/images/valid/25332c72-2c25-4375-91fa-ca0139038890.jpg: 1280x960 2 no_gestures, 20.0ms\r\n",
      "image 362/488 /kaggle/temp/dataset/images/valid/253757c1-edc4-482a-b425-b1edc6a9bf3f.jpg: 1280x992 1 no_gesture, 13.4ms\r\n",
      "image 363/488 /kaggle/temp/dataset/images/valid/25427570-e998-40fa-93dc-e14611eae1ac.jpg: 1280x960 1 no_gesture, 13.0ms\r\n",
      "image 364/488 /kaggle/temp/dataset/images/valid/254cfcbf-0d04-44ff-82cc-6e013bffdcee.jpg: 1280x960 2 no_gestures, 12.9ms\r\n",
      "image 365/488 /kaggle/temp/dataset/images/valid/254f9d05-a824-44c6-975c-38984335b779.jpg: 736x1280 1 no_gesture, 11.6ms\r\n",
      "image 366/488 /kaggle/temp/dataset/images/valid/257a7f69-2806-433e-862f-9ea12161d571.jpg: 1280x960 1 no_gesture, 13.1ms\r\n",
      "image 367/488 /kaggle/temp/dataset/images/valid/257efc6b-2901-4181-9abd-360e956adc9c.jpg: 1280x960 2 no_gestures, 13.1ms\r\n",
      "image 368/488 /kaggle/temp/dataset/images/valid/258a9eeb-3725-496d-ab8d-41ed554cb0db.jpg: 1280x960 1 no_gesture, 12.9ms\r\n",
      "image 369/488 /kaggle/temp/dataset/images/valid/25967449-ccf1-4f94-914c-788af5f73abf.jpg: 1280x960 1 no_gesture, 13.0ms\r\n",
      "image 370/488 /kaggle/temp/dataset/images/valid/259c2888-c4a6-4406-a7e0-a7fa5b261348.jpg: 1280x960 1 call, 12.9ms\r\n",
      "image 371/488 /kaggle/temp/dataset/images/valid/25a43a5c-19cf-4765-9f44-51d0d16c52ed.jpg: 1280x992 1 no_gesture, 13.2ms\r\n",
      "image 372/488 /kaggle/temp/dataset/images/valid/25b48c9d-9dbe-409c-9122-ee12f3644d63.jpg: 736x1280 1 call, 11.6ms\r\n",
      "image 373/488 /kaggle/temp/dataset/images/valid/25bf6ff3-45ef-49cf-8af7-e57259b93a56.jpg: 1280x960 2 no_gestures, 12.9ms\r\n",
      "image 374/488 /kaggle/temp/dataset/images/valid/25c9712b-fdbd-4809-a850-f927282c77da.jpg: 1280x960 1 no_gesture, 12.9ms\r\n",
      "image 375/488 /kaggle/temp/dataset/images/valid/25d68f1a-6cce-473b-a7e1-d863cef72da4.jpg: 1280x960 1 no_gesture, 12.9ms\r\n",
      "image 376/488 /kaggle/temp/dataset/images/valid/25d83c03-1a4a-481e-a43d-c0085b41aba3.jpg: 1280x960 1 no_gesture, 12.9ms\r\n",
      "image 377/488 /kaggle/temp/dataset/images/valid/25e02fa3-3800-429b-a47a-01c886368a71.jpg: 1280x960 1 no_gesture, 12.9ms\r\n",
      "image 378/488 /kaggle/temp/dataset/images/valid/25e54006-4093-4d29-83f1-02d178273b4b.jpg: 960x1280 2 no_gestures, 13.6ms\r\n",
      "image 379/488 /kaggle/temp/dataset/images/valid/25e79937-ee1b-4880-8af2-f69784052db4.jpg: 1280x736 2 no_gestures, 11.2ms\r\n",
      "image 380/488 /kaggle/temp/dataset/images/valid/25ebafee-cee7-4122-bdee-1e6979e54841.jpg: 1280x960 1 no_gesture, 1 call, 12.9ms\r\n",
      "image 381/488 /kaggle/temp/dataset/images/valid/25fbdbc1-c2d3-4a35-9db4-7c50049b8c1b.jpg: 1280x960 1 no_gesture, 12.9ms\r\n",
      "image 382/488 /kaggle/temp/dataset/images/valid/26031636-48d3-4b91-bc6a-4837a65c6f4b.jpg: 1280x960 1 no_gesture, 12.9ms\r\n",
      "image 383/488 /kaggle/temp/dataset/images/valid/2624ba4d-f56f-4c49-89ef-9fd874e703ff.jpg: 1280x608 1 no_gesture, 9.5ms\r\n",
      "image 384/488 /kaggle/temp/dataset/images/valid/263c96fa-ef64-46a3-83bf-fb0e73556c31.jpg: 1280x736 1 call, 11.2ms\r\n",
      "image 385/488 /kaggle/temp/dataset/images/valid/264dfeef-a05c-4827-bd38-d50063811761.jpg: 1280x736 1 no_gesture, 11.2ms\r\n",
      "image 386/488 /kaggle/temp/dataset/images/valid/2659dd1b-cd2e-4771-b3b7-8d7ef2d4c349.jpg: 1280x608 1 call, 9.6ms\r\n",
      "image 387/488 /kaggle/temp/dataset/images/valid/26a8220d-3291-43e9-92ad-a237780c2dc3.jpg: 1280x960 2 no_gestures, 13.0ms\r\n",
      "image 388/488 /kaggle/temp/dataset/images/valid/26b6de96-6cdc-49a9-90cf-61d0e6f3d782.jpg: 1280x1280 1 no_gesture, 16.1ms\r\n",
      "image 389/488 /kaggle/temp/dataset/images/valid/26d2c4af-7611-4eef-982c-5a81ebb1bbeb.jpg: 1280x960 1 no_gesture, 13.0ms\r\n",
      "image 390/488 /kaggle/temp/dataset/images/valid/26fdc96b-e3fe-4a39-96d2-c567d6893a4b.jpg: 1280x960 1 call, 12.9ms\r\n",
      "image 391/488 /kaggle/temp/dataset/images/valid/2731275b-e35d-49d6-aa6b-d02fe381738f.jpg: 1280x960 1 call, 13.0ms\r\n",
      "image 392/488 /kaggle/temp/dataset/images/valid/2732c385-17cc-461a-a18a-7e31c0e94a23.jpg: 1280x960 1 call, 12.9ms\r\n",
      "image 393/488 /kaggle/temp/dataset/images/valid/27a63718-cbce-4f0a-aa4d-2ef98e999d96.jpg: 1280x960 1 call, 12.9ms\r\n",
      "image 394/488 /kaggle/temp/dataset/images/valid/27e12076-e594-4d57-b8da-ae284b1ef571.jpg: 1280x960 1 no_gesture, 1 call, 12.9ms\r\n",
      "image 395/488 /kaggle/temp/dataset/images/valid/2800e076-9612-474a-ab57-c37cc0499692.jpg: 1280x960 1 call, 12.9ms\r\n",
      "image 396/488 /kaggle/temp/dataset/images/valid/280669a3-a517-4486-8657-72cf6fd824dc.jpg: 1280x960 1 call, 12.9ms\r\n",
      "image 397/488 /kaggle/temp/dataset/images/valid/2808fcd7-40cb-44b3-8d58-37e1619a11ab.jpg: 1280x960 1 call, 13.1ms\r\n",
      "image 398/488 /kaggle/temp/dataset/images/valid/28459ca8-be89-4b16-a391-aa7a4ecf26a9.jpg: 1280x960 1 no_gesture, 1 call, 13.0ms\r\n",
      "image 399/488 /kaggle/temp/dataset/images/valid/2855a7ee-ceeb-4c34-96e9-3be5a7213ec1.jpg: 1280x960 2 no_gestures, 1 call, 12.9ms\r\n",
      "image 400/488 /kaggle/temp/dataset/images/valid/2886eb0b-91cf-4b25-acf6-89d435256866.jpg: 1280x960 1 call, 13.0ms\r\n",
      "image 401/488 /kaggle/temp/dataset/images/valid/28b3dcec-624e-4f20-9f53-15f807621082.jpg: 1280x960 1 call, 13.0ms\r\n",
      "image 402/488 /kaggle/temp/dataset/images/valid/28be399c-0812-4048-bd27-379b8e2487b1.jpg: 1280x960 1 call, 12.9ms\r\n",
      "image 403/488 /kaggle/temp/dataset/images/valid/28ce4f4f-f872-41d8-a3a0-53cdb115809d.jpg: 1280x960 1 call, 12.9ms\r\n",
      "image 404/488 /kaggle/temp/dataset/images/valid/28d6a25a-2862-4d17-baa5-15200eb83e68.jpg: 1280x960 1 call, 12.9ms\r\n",
      "image 405/488 /kaggle/temp/dataset/images/valid/28d8c477-3134-41b0-83b6-5e0d7db06881.jpg: 1280x960 1 no_gesture, 1 call, 12.9ms\r\n",
      "image 406/488 /kaggle/temp/dataset/images/valid/28edffcc-5252-4323-bc6a-35417734da47.jpg: 1280x992 1 call, 13.2ms\r\n",
      "image 407/488 /kaggle/temp/dataset/images/valid/29366d20-144d-4ebb-8670-e5c413029d9a.jpg: 1280x960 1 call, 13.0ms\r\n",
      "image 408/488 /kaggle/temp/dataset/images/valid/29494247-c688-488f-a0b1-9436c03d3e8e.jpg: 960x1280 1 call, 13.6ms\r\n",
      "image 409/488 /kaggle/temp/dataset/images/valid/2956f817-f4e0-42e6-9a64-9d03b4a5972c.jpg: 1280x960 1 call, 12.9ms\r\n",
      "image 410/488 /kaggle/temp/dataset/images/valid/29b51b6a-0850-4c0b-981e-04ae94153ef0.jpg: 1280x960 1 call, 12.9ms\r\n",
      "image 411/488 /kaggle/temp/dataset/images/valid/29e87245-9e70-47dd-919d-143c368dbd00.jpg: 1280x960 1 no_gesture, 1 call, 12.9ms\r\n",
      "image 412/488 /kaggle/temp/dataset/images/valid/29f6dd3a-1dd4-463c-a1d6-c51be93beb9c.jpg: 1280x992 1 call, 13.3ms\r\n",
      "image 413/488 /kaggle/temp/dataset/images/valid/29f92d2f-5a8b-474f-be2b-c2e3a2e55f30.jpg: 1280x960 1 no_gesture, 1 call, 13.0ms\r\n",
      "image 414/488 /kaggle/temp/dataset/images/valid/2a0c913f-110e-4ea2-9077-6b0fc13a7545.jpg: 1280x960 1 call, 12.9ms\r\n",
      "image 415/488 /kaggle/temp/dataset/images/valid/2a1c0ee0-a220-49b1-be03-bf6d49e3bd8c.jpg: 1280x960 1 call, 12.9ms\r\n",
      "image 416/488 /kaggle/temp/dataset/images/valid/2a4650b6-f2c5-4178-aa0f-d3cf26bda0ba.jpg: 1280x960 1 call, 12.9ms\r\n",
      "image 417/488 /kaggle/temp/dataset/images/valid/2a57c686-a211-4c5c-9c68-1dc5c7d099fd.jpg: 1280x992 1 call, 13.1ms\r\n",
      "image 418/488 /kaggle/temp/dataset/images/valid/2a616a92-84a0-40e8-aab8-a6b974066bbc.jpg: 1280x960 1 call, 12.9ms\r\n",
      "image 419/488 /kaggle/temp/dataset/images/valid/2a6cbdab-ab94-4e88-8ab2-320d83679d07.jpg: 1280x960 1 call, 12.9ms\r\n",
      "image 420/488 /kaggle/temp/dataset/images/valid/2a83f5af-ee48-4683-8494-6c2a4a0643a5.jpg: 960x1280 1 call, 13.6ms\r\n",
      "image 421/488 /kaggle/temp/dataset/images/valid/2aa51ef5-71da-46ea-83e1-f60d7ae4a89e.jpg: 1280x960 1 call, 12.9ms\r\n",
      "image 422/488 /kaggle/temp/dataset/images/valid/2ac37a1d-424c-411d-b20f-9beefdc0948d.jpg: 1280x960 1 call, 12.9ms\r\n",
      "image 423/488 /kaggle/temp/dataset/images/valid/2ad44bd5-953d-4a54-b631-da91d0aca71b.jpg: 1280x960 1 call, 13.0ms\r\n",
      "image 424/488 /kaggle/temp/dataset/images/valid/2ada3190-0142-48cf-8532-bfa87646ccf3.jpg: 1280x960 1 call, 12.9ms\r\n",
      "image 425/488 /kaggle/temp/dataset/images/valid/2adb18bb-db38-4188-90e5-da1bf1a39864.jpg: 1280x960 1 call, 12.9ms\r\n",
      "image 426/488 /kaggle/temp/dataset/images/valid/2b157cb9-91bf-466f-8a8a-dea8ff8c6144.jpg: 736x1280 1 call, 21.9ms\r\n",
      "image 427/488 /kaggle/temp/dataset/images/valid/2b37a796-cbe3-41c2-94e2-6808172fdb2d.jpg: 1280x960 1 call, 13.0ms\r\n",
      "image 428/488 /kaggle/temp/dataset/images/valid/2b651084-1569-4acb-9da9-4a9fc76e9d87.jpg: 736x1280 1 call, 11.7ms\r\n",
      "image 429/488 /kaggle/temp/dataset/images/valid/2b6a4df7-2d2e-4f64-807b-451c04bd2681.jpg: 1280x960 1 call, 12.9ms\r\n",
      "image 430/488 /kaggle/temp/dataset/images/valid/2b74dc62-d305-46e9-a447-28e8c1eebf79.jpg: 1280x736 1 call, 11.2ms\r\n",
      "image 431/488 /kaggle/temp/dataset/images/valid/2b8afa11-035c-4a2a-9569-f9e8d3146ec5.jpg: 1280x608 1 call, 10.4ms\r\n",
      "image 432/488 /kaggle/temp/dataset/images/valid/2b8faa58-c506-401b-a3fb-636fb9385d55.jpg: 1280x960 1 no_gesture, 1 call, 12.9ms\r\n",
      "image 433/488 /kaggle/temp/dataset/images/valid/2b9cfd2a-cf25-4649-889b-c037f35254c8.jpg: 1280x960 1 no_gesture, 1 call, 12.9ms\r\n",
      "image 434/488 /kaggle/temp/dataset/images/valid/2bb21326-8077-40a5-9b32-ba62e4ccd891.jpg: 960x1280 1 call, 13.8ms\r\n",
      "image 435/488 /kaggle/temp/dataset/images/valid/2bde95d2-5ec8-4bcb-a207-70bd370a9496.jpg: 1280x960 1 call, 13.0ms\r\n",
      "image 436/488 /kaggle/temp/dataset/images/valid/2be94ffa-60bb-4f1a-a96c-c26edc86d4bb.jpg: 1280x960 1 call, 13.1ms\r\n",
      "image 437/488 /kaggle/temp/dataset/images/valid/2bf8d0b1-b699-4a13-9abe-fe14750a7d5a.jpg: 1280x960 1 call, 13.0ms\r\n",
      "image 438/488 /kaggle/temp/dataset/images/valid/2c083122-65a5-4571-b23a-3e8fe020adea.jpg: 960x1280 1 call, 13.6ms\r\n",
      "image 439/488 /kaggle/temp/dataset/images/valid/2c14112e-807e-451f-a450-8939937a6eac.jpg: 1280x960 1 call, 13.0ms\r\n",
      "image 440/488 /kaggle/temp/dataset/images/valid/2c16794c-3c69-4535-9b6c-660d39dbe846.jpg: 1280x960 1 call, 12.9ms\r\n",
      "image 441/488 /kaggle/temp/dataset/images/valid/2c1f363b-e788-4413-be32-7d1dc3cb3d0b.jpg: 1280x960 1 no_gesture, 1 call, 12.9ms\r\n",
      "image 442/488 /kaggle/temp/dataset/images/valid/2c2aac53-2306-4f5f-93ac-ec1b7526be6f.jpg: 1280x992 1 call, 13.4ms\r\n",
      "image 443/488 /kaggle/temp/dataset/images/valid/2c51ddde-e972-4034-b25b-ae65bd4a2455.jpg: 1280x960 1 no_gesture, 1 call, 12.9ms\r\n",
      "image 444/488 /kaggle/temp/dataset/images/valid/2c66920e-3c0e-4c67-b4aa-6ee5dc76e0b3.jpg: 1280x960 1 call, 12.9ms\r\n",
      "image 445/488 /kaggle/temp/dataset/images/valid/2c74ae5a-98b7-4d8b-8fcb-165fabdb33d8.jpg: 1280x960 1 no_gesture, 1 call, 13.0ms\r\n",
      "image 446/488 /kaggle/temp/dataset/images/valid/2c854c68-e626-47d1-bd16-0114498e7491.jpg: 1280x992 1 call, 13.2ms\r\n",
      "image 447/488 /kaggle/temp/dataset/images/valid/2c9728ad-8c54-4804-8fcc-aa2da4861d76.jpg: 1280x960 1 call, 13.0ms\r\n",
      "image 448/488 /kaggle/temp/dataset/images/valid/2cc7f670-c5fd-4252-b7e1-11787b8a18bb.jpg: 1280x960 1 no_gesture, 1 call, 12.9ms\r\n",
      "image 449/488 /kaggle/temp/dataset/images/valid/2ccd75d9-0302-4337-8853-6465e4a92690.jpg: 1280x960 1 call, 13.0ms\r\n",
      "image 450/488 /kaggle/temp/dataset/images/valid/2cdf74ff-40d0-4fc2-8d88-857f9d8ccb44.jpg: 1280x960 1 call, 12.9ms\r\n",
      "image 451/488 /kaggle/temp/dataset/images/valid/2d512448-ddc2-4e21-86ca-152e97210aa7.jpg: 1280x960 1 no_gesture, 2 calls, 12.9ms\r\n",
      "image 452/488 /kaggle/temp/dataset/images/valid/2d583851-402b-4a0d-889e-77ab6e67deb9.jpg: 960x1280 1 call, 13.6ms\r\n",
      "image 453/488 /kaggle/temp/dataset/images/valid/2d7dc0d7-3817-4615-b8a6-99673c838117.jpg: 1280x960 1 call, 13.0ms\r\n",
      "image 454/488 /kaggle/temp/dataset/images/valid/2dad9ba0-9dd8-4845-a681-56c433170dd1.jpg: 1280x960 1 no_gesture, 1 call, 12.9ms\r\n",
      "image 455/488 /kaggle/temp/dataset/images/valid/2dcb9a67-acc7-442b-acad-ab51b3f4d11c.jpg: 1280x960 1 no_gesture, 1 call, 13.1ms\r\n",
      "image 456/488 /kaggle/temp/dataset/images/valid/2ddd629d-cec8-4e6a-9b80-0c483e032828.jpg: 1280x960 1 no_gesture, 1 call, 12.9ms\r\n",
      "image 457/488 /kaggle/temp/dataset/images/valid/2de3562e-e858-49eb-b4f6-36e1f791d2f5.jpg: 1280x960 1 call, 12.9ms\r\n",
      "image 458/488 /kaggle/temp/dataset/images/valid/2e1b3efe-d3f8-4d9a-9d0e-45aa3345631f.jpg: 1280x960 1 call, 12.9ms\r\n",
      "image 459/488 /kaggle/temp/dataset/images/valid/2e448bce-df4b-4617-beb7-1b0e2d294447.jpg: 1280x960 2 calls, 12.9ms\r\n",
      "image 460/488 /kaggle/temp/dataset/images/valid/2e4a38fe-8f1d-4ed0-834d-65eedb8db209.jpg: 736x1280 1 call, 11.9ms\r\n",
      "image 461/488 /kaggle/temp/dataset/images/valid/2e4fac91-fa6f-4896-a9be-a28a0601759d.jpg: 1280x960 1 call, 13.0ms\r\n",
      "image 462/488 /kaggle/temp/dataset/images/valid/2e5f1715-2ade-4299-94ef-ade7e1df18b2.jpg: 1280x960 1 call, 12.9ms\r\n",
      "image 463/488 /kaggle/temp/dataset/images/valid/2ebb4435-9909-487f-bd67-29e2696253e2.jpg: 1280x960 2 no_gestures, 1 call, 12.9ms\r\n",
      "image 464/488 /kaggle/temp/dataset/images/valid/2ec11863-1838-4d9d-98e4-da00994ef8af.jpg: 1280x960 1 call, 12.9ms\r\n",
      "image 465/488 /kaggle/temp/dataset/images/valid/2ede65cd-637a-4523-90be-fc40b6251148.jpg: 1280x960 1 call, 13.0ms\r\n",
      "image 466/488 /kaggle/temp/dataset/images/valid/2f243d0c-b098-4b6d-86d0-b349bf9c63ef.jpg: 1280x960 1 call, 13.0ms\r\n",
      "image 467/488 /kaggle/temp/dataset/images/valid/2f42ebba-3364-4598-b591-0b3a92c329d8.jpg: 1280x960 1 call, 13.0ms\r\n",
      "image 468/488 /kaggle/temp/dataset/images/valid/2f4ee692-f4f9-4430-9644-d9fa5c163863.jpg: 1280x960 1 call, 13.0ms\r\n",
      "image 469/488 /kaggle/temp/dataset/images/valid/2f55fbef-696b-426b-a0e2-7d43a5ac029e.jpg: 1280x960 1 call, 12.9ms\r\n",
      "image 470/488 /kaggle/temp/dataset/images/valid/2f7501a4-0ea3-4445-9346-12486cdfeaca.jpg: 960x1280 1 no_gesture, 1 call, 13.6ms\r\n",
      "image 471/488 /kaggle/temp/dataset/images/valid/2f80d367-b0cc-42f5-b166-98dafc53b40c.jpg: 960x1280 1 call, 13.6ms\r\n",
      "image 472/488 /kaggle/temp/dataset/images/valid/2f8a9953-b758-4e2c-b863-d837cd098606.jpg: 1280x960 1 no_gesture, 1 call, 13.0ms\r\n",
      "image 473/488 /kaggle/temp/dataset/images/valid/2f8e845d-8f3a-478e-b348-9da604336479.jpg: 1280x960 1 call, 12.9ms\r\n",
      "image 474/488 /kaggle/temp/dataset/images/valid/2fc626f7-e2c1-49f4-bc51-8a7d16b25989.jpg: 960x1280 1 call, 13.6ms\r\n",
      "image 475/488 /kaggle/temp/dataset/images/valid/2fda77d5-fe93-4be5-900e-4771232e2964.jpg: 1280x960 1 call, 12.9ms\r\n",
      "image 476/488 /kaggle/temp/dataset/images/valid/301fecf8-2b15-4451-bd48-54db6294240c.jpg: 1280x960 1 no_gesture, 1 call, 12.9ms\r\n",
      "image 477/488 /kaggle/temp/dataset/images/valid/3057de9f-dbed-4917-9753-f1443ca9dd84.jpg: 1280x960 1 no_gesture, 1 call, 12.9ms\r\n",
      "image 478/488 /kaggle/temp/dataset/images/valid/3063df99-3924-452b-82d8-9809ba9a5c15.jpg: 1280x960 1 no_gesture, 1 call, 12.9ms\r\n",
      "image 479/488 /kaggle/temp/dataset/images/valid/308ecf19-2104-4933-a75e-bac8d3ff8a65.jpg: 1280x960 1 no_gesture, 1 call, 12.9ms\r\n",
      "image 480/488 /kaggle/temp/dataset/images/valid/30a407c6-2feb-45da-9c99-0b3dbea2f366.jpg: 1280x960 1 call, 12.9ms\r\n",
      "image 481/488 /kaggle/temp/dataset/images/valid/30a91963-8be3-4463-aefa-70b022fe6663.jpg: 1280x960 1 no_gesture, 1 call, 12.9ms\r\n",
      "image 482/488 /kaggle/temp/dataset/images/valid/30b65f7e-d323-4975-88a1-c6a6c185456b.jpg: 1280x960 1 call, 12.9ms\r\n",
      "image 483/488 /kaggle/temp/dataset/images/valid/30bd99fa-5a50-43c5-a581-c44b45de5b9f.jpg: 1280x960 1 call, 12.9ms\r\n",
      "image 484/488 /kaggle/temp/dataset/images/valid/30d4ce8d-b462-4893-893d-de7e4929ee25.jpg: 1280x960 2 no_gestures, 1 call, 12.9ms\r\n",
      "image 485/488 /kaggle/temp/dataset/images/valid/30da1ee1-2a73-4eb7-bbe4-493fbda175d2.jpg: 1280x960 1 call, 12.9ms\r\n",
      "image 486/488 /kaggle/temp/dataset/images/valid/30e6304a-130f-4f1b-b73d-3f003686d14a.jpg: 1280x960 1 call, 12.9ms\r\n",
      "image 487/488 /kaggle/temp/dataset/images/valid/31059cee-a54f-4423-9998-7bef7c2c6d52.jpg: 1280x992 1 call, 13.2ms\r\n",
      "image 488/488 /kaggle/temp/dataset/images/valid/3105caa9-d7c3-434e-a416-78ae6cefad76.jpg: 1280x960 1 call, 13.0ms\r\n",
      "Speed: 1.1ms pre-process, 12.9ms inference, 1.1ms NMS per image at shape (1, 3, 1280, 1280)\r\n",
      "Results saved to \u001b[1mruns/detect/exp\u001b[0m\r\n",
      "/kaggle/working\n"
     ]
    }
   ],
   "source": [
    "%cd yolov5\n",
    "!python detect.py --weights './runs/train/exp/weights/best.pt' --imgsz 1280 --device 0 --source /kaggle/temp/dataset/images/valid\n",
    "%cd .."
   ]
  },
  {
   "cell_type": "markdown",
   "id": "6fdaf106",
   "metadata": {
    "papermill": {
     "duration": 0.39482,
     "end_time": "2022-10-09T15:16:08.384805",
     "exception": false,
     "start_time": "2022-10-09T15:16:07.989985",
     "status": "completed"
    },
    "tags": []
   },
   "source": [
    "## Saving runs output to .tar"
   ]
  },
  {
   "cell_type": "code",
   "execution_count": 30,
   "id": "b386d9ab",
   "metadata": {
    "execution": {
     "iopub.execute_input": "2022-10-09T15:16:09.226415Z",
     "iopub.status.busy": "2022-10-09T15:16:09.225622Z",
     "iopub.status.idle": "2022-10-09T15:16:24.622951Z",
     "shell.execute_reply": "2022-10-09T15:16:24.621576Z"
    },
    "papermill": {
     "duration": 15.840587,
     "end_time": "2022-10-09T15:16:24.625799",
     "exception": false,
     "start_time": "2022-10-09T15:16:08.785212",
     "status": "completed"
    },
    "tags": []
   },
   "outputs": [],
   "source": [
    "!tar -czf runs_output.zip './yolov5/runs'"
   ]
  },
  {
   "cell_type": "code",
   "execution_count": 31,
   "id": "8816cfd4",
   "metadata": {
    "execution": {
     "iopub.execute_input": "2022-10-09T15:16:25.538907Z",
     "iopub.status.busy": "2022-10-09T15:16:25.538403Z",
     "iopub.status.idle": "2022-10-09T15:16:25.544384Z",
     "shell.execute_reply": "2022-10-09T15:16:25.543255Z"
    },
    "papermill": {
     "duration": 0.410422,
     "end_time": "2022-10-09T15:16:25.546608",
     "exception": false,
     "start_time": "2022-10-09T15:16:25.136186",
     "status": "completed"
    },
    "tags": []
   },
   "outputs": [],
   "source": [
    "# !ls ./yolov5/runs/detect/exp"
   ]
  },
  {
   "cell_type": "code",
   "execution_count": 32,
   "id": "b0d6b4eb",
   "metadata": {
    "execution": {
     "iopub.execute_input": "2022-10-09T15:16:26.369912Z",
     "iopub.status.busy": "2022-10-09T15:16:26.369498Z",
     "iopub.status.idle": "2022-10-09T15:16:26.374391Z",
     "shell.execute_reply": "2022-10-09T15:16:26.373018Z"
    },
    "papermill": {
     "duration": 0.422002,
     "end_time": "2022-10-09T15:16:26.376496",
     "exception": false,
     "start_time": "2022-10-09T15:16:25.954494",
     "status": "completed"
    },
    "tags": []
   },
   "outputs": [],
   "source": [
    "# imgs = ['./yolov5/runs/detect/exp/' + x + '.jpg' for x in dataset_files['valid']]\n",
    "# img = Image.open(imgs[0])\n",
    "# img.show()\n"
   ]
  },
  {
   "cell_type": "markdown",
   "id": "f41abf11",
   "metadata": {
    "papermill": {
     "duration": 0.43175,
     "end_time": "2022-10-09T15:16:27.220573",
     "exception": false,
     "start_time": "2022-10-09T15:16:26.788823",
     "status": "completed"
    },
    "tags": []
   },
   "source": [
    "## Inference"
   ]
  },
  {
   "cell_type": "code",
   "execution_count": 33,
   "id": "2c89d757",
   "metadata": {
    "execution": {
     "iopub.execute_input": "2022-10-09T15:16:28.125433Z",
     "iopub.status.busy": "2022-10-09T15:16:28.125014Z",
     "iopub.status.idle": "2022-10-09T15:16:28.129736Z",
     "shell.execute_reply": "2022-10-09T15:16:28.128660Z"
    },
    "papermill": {
     "duration": 0.508259,
     "end_time": "2022-10-09T15:16:28.131864",
     "exception": false,
     "start_time": "2022-10-09T15:16:27.623605",
     "status": "completed"
    },
    "tags": []
   },
   "outputs": [],
   "source": [
    "# %cd yolov5\n",
    "# !wget https://raw.githubusercontent.com/SpryGorgon/YOLOv5/main/predict.py\n",
    "# !wget https://raw.githubusercontent.com/SpryGorgon/YOLOv5/main/helpers.py\n",
    "# %cd .."
   ]
  },
  {
   "cell_type": "code",
   "execution_count": 34,
   "id": "11777496",
   "metadata": {
    "execution": {
     "iopub.execute_input": "2022-10-09T15:16:28.930799Z",
     "iopub.status.busy": "2022-10-09T15:16:28.930399Z",
     "iopub.status.idle": "2022-10-09T15:16:28.935035Z",
     "shell.execute_reply": "2022-10-09T15:16:28.934098Z"
    },
    "papermill": {
     "duration": 0.406736,
     "end_time": "2022-10-09T15:16:28.936987",
     "exception": false,
     "start_time": "2022-10-09T15:16:28.530251",
     "status": "completed"
    },
    "tags": []
   },
   "outputs": [],
   "source": [
    "# from predict import predict\n",
    "# from helpers import draw_bboxs, image_resizer\n",
    "# import PIL\n",
    "# from PIL import Image"
   ]
  },
  {
   "cell_type": "code",
   "execution_count": 35,
   "id": "c079816e",
   "metadata": {
    "execution": {
     "iopub.execute_input": "2022-10-09T15:16:29.739363Z",
     "iopub.status.busy": "2022-10-09T15:16:29.737467Z",
     "iopub.status.idle": "2022-10-09T15:16:29.742737Z",
     "shell.execute_reply": "2022-10-09T15:16:29.741814Z"
    },
    "papermill": {
     "duration": 0.409582,
     "end_time": "2022-10-09T15:16:29.744783",
     "exception": false,
     "start_time": "2022-10-09T15:16:29.335201",
     "status": "completed"
    },
    "tags": []
   },
   "outputs": [],
   "source": [
    "# weights = 'yolov5n_640_30.pt'\n",
    "# # image_path = '/content/test_multi.jpg'\n",
    "# resized_image_save_path = '/content/resized_image.jpg'\n",
    "# bboxs_image_save_path = '/content/predicted_bboxs.jpg'\n",
    "# size = 1280"
   ]
  }
 ],
 "metadata": {
  "kernelspec": {
   "display_name": "Python 3",
   "language": "python",
   "name": "python3"
  },
  "language_info": {
   "codemirror_mode": {
    "name": "ipython",
    "version": 3
   },
   "file_extension": ".py",
   "mimetype": "text/x-python",
   "name": "python",
   "nbconvert_exporter": "python",
   "pygments_lexer": "ipython3",
   "version": "3.7.12"
  },
  "papermill": {
   "default_parameters": {},
   "duration": 22411.067452,
   "end_time": "2022-10-09T15:16:31.043169",
   "environment_variables": {},
   "exception": null,
   "input_path": "__notebook__.ipynb",
   "output_path": "__notebook__.ipynb",
   "parameters": {},
   "start_time": "2022-10-09T09:02:59.975717",
   "version": "2.3.4"
  }
 },
 "nbformat": 4,
 "nbformat_minor": 5
}
